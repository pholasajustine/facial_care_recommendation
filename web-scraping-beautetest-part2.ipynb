{
 "cells": [
  {
   "cell_type": "markdown",
   "metadata": {},
   "source": [
    "# Web Scraping"
   ]
  },
  {
   "cell_type": "markdown",
   "metadata": {},
   "source": [
    "#### We're web scrapping the skin care cosmetics from Beauté test to get all the cosmetics names, their ingredients, their size content, their price, for which skin types it's more appropirate, and other features that may be interesting."
   ]
  },
  {
   "cell_type": "markdown",
   "metadata": {},
   "source": [
    "Libraries"
   ]
  },
  {
   "cell_type": "code",
   "execution_count": 1,
   "metadata": {},
   "outputs": [],
   "source": [
    "import requests\n",
    "from bs4 import BeautifulSoup\n",
    "import pandas as pd\n",
    "import re\n",
    "# from pprint import pprint\n",
    "# from lxml import html\n",
    "# from lxml.html import fromstring\n",
    "# import urllib.request\n",
    "# from urllib.request import urlopen\n",
    "# import random\n",
    "# import scrapy"
   ]
  },
  {
   "cell_type": "markdown",
   "metadata": {},
   "source": [
    "We're going to first load the data we got from part1."
   ]
  },
  {
   "cell_type": "code",
   "execution_count": 2,
   "metadata": {},
   "outputs": [],
   "source": [
    "facial_care_df = pd.read_csv('./Data/beautetest_facial_care_products.csv')"
   ]
  },
  {
   "cell_type": "code",
   "execution_count": 3,
   "metadata": {},
   "outputs": [
    {
     "data": {
      "text/html": [
       "<div>\n",
       "<style scoped>\n",
       "    .dataframe tbody tr th:only-of-type {\n",
       "        vertical-align: middle;\n",
       "    }\n",
       "\n",
       "    .dataframe tbody tr th {\n",
       "        vertical-align: top;\n",
       "    }\n",
       "\n",
       "    .dataframe thead th {\n",
       "        text-align: right;\n",
       "    }\n",
       "</style>\n",
       "<table border=\"1\" class=\"dataframe\">\n",
       "  <thead>\n",
       "    <tr style=\"text-align: right;\">\n",
       "      <th></th>\n",
       "      <th>Names</th>\n",
       "      <th>Links</th>\n",
       "      <th>Types</th>\n",
       "      <th>Brands</th>\n",
       "      <th>Prices</th>\n",
       "      <th>Capacities</th>\n",
       "    </tr>\n",
       "  </thead>\n",
       "  <tbody>\n",
       "    <tr>\n",
       "      <th>0</th>\n",
       "      <td>Soin Revolumisant Intense Anti-Âge Jour - Revi...</td>\n",
       "      <td>https://www.beaute-test.com/soin-revolumisant-...</td>\n",
       "      <td>cremes_jour</td>\n",
       "      <td>L'Oréal Paris</td>\n",
       "      <td>11.08 €</td>\n",
       "      <td>50 ml</td>\n",
       "    </tr>\n",
       "    <tr>\n",
       "      <th>1</th>\n",
       "      <td>Crème de Jour Anti-Rides Q10 - Cien</td>\n",
       "      <td>https://www.beaute-test.com/day_cream_q10_-_ci...</td>\n",
       "      <td>cremes_jour</td>\n",
       "      <td>Lidl</td>\n",
       "      <td>12.00 €</td>\n",
       "      <td>50 ml</td>\n",
       "    </tr>\n",
       "    <tr>\n",
       "      <th>2</th>\n",
       "      <td>BB Crème</td>\n",
       "      <td>https://www.beaute-test.com/soin_miracle_perfe...</td>\n",
       "      <td>cremes_jour</td>\n",
       "      <td>Garnier</td>\n",
       "      <td>5.49 €</td>\n",
       "      <td>50 ml</td>\n",
       "    </tr>\n",
       "    <tr>\n",
       "      <th>3</th>\n",
       "      <td>BB Skin Detox Fluid SPF 25</td>\n",
       "      <td>https://www.beaute-test.com/bb-skin-detox-flui...</td>\n",
       "      <td>cremes_jour</td>\n",
       "      <td>Clarins</td>\n",
       "      <td>26.90 €</td>\n",
       "      <td>45 ml</td>\n",
       "    </tr>\n",
       "    <tr>\n",
       "      <th>4</th>\n",
       "      <td>Soin Global Anti-Rides Jour - Lift+ Algo Rétinol</td>\n",
       "      <td>https://www.beaute-test.com/soin-global-anti-r...</td>\n",
       "      <td>cremes_jour</td>\n",
       "      <td>Diadermine</td>\n",
       "      <td>12.05 €</td>\n",
       "      <td>50 ml</td>\n",
       "    </tr>\n",
       "  </tbody>\n",
       "</table>\n",
       "</div>"
      ],
      "text/plain": [
       "                                               Names  \\\n",
       "0  Soin Revolumisant Intense Anti-Âge Jour - Revi...   \n",
       "1                Crème de Jour Anti-Rides Q10 - Cien   \n",
       "2                                           BB Crème   \n",
       "3                         BB Skin Detox Fluid SPF 25   \n",
       "4   Soin Global Anti-Rides Jour - Lift+ Algo Rétinol   \n",
       "\n",
       "                                               Links        Types  \\\n",
       "0  https://www.beaute-test.com/soin-revolumisant-...  cremes_jour   \n",
       "1  https://www.beaute-test.com/day_cream_q10_-_ci...  cremes_jour   \n",
       "2  https://www.beaute-test.com/soin_miracle_perfe...  cremes_jour   \n",
       "3  https://www.beaute-test.com/bb-skin-detox-flui...  cremes_jour   \n",
       "4  https://www.beaute-test.com/soin-global-anti-r...  cremes_jour   \n",
       "\n",
       "          Brands   Prices Capacities  \n",
       "0  L'Oréal Paris  11.08 €      50 ml  \n",
       "1           Lidl  12.00 €      50 ml  \n",
       "2        Garnier   5.49 €      50 ml  \n",
       "3        Clarins  26.90 €      45 ml  \n",
       "4     Diadermine  12.05 €      50 ml  "
      ]
     },
     "execution_count": 3,
     "metadata": {},
     "output_type": "execute_result"
    }
   ],
   "source": [
    "facial_care_df.head()"
   ]
  },
  {
   "cell_type": "code",
   "execution_count": 4,
   "metadata": {},
   "outputs": [],
   "source": [
    "def list_ings_cleaned(page_content):\n",
    "    end_index = page_content.index('Voir les fiches composants')\n",
    "    \"\"\"\n",
    "    The list of ingredients doesn't appear with the same separator. Sometimes, it's a big dot (which when scrapped appear as\n",
    "    ' \\x95'), a coma, a dot, a dash or sometimes just a space. It's quite difficult to get the ingredients. Some products\n",
    "    also may not have any ingredient which are provided.\n",
    "    For the product where there are no mention of \"Ingrédients\" or \"Formule\" we will treat it as if there are no ingredients\n",
    "    provided. The same will be applied on the products with spaces as separators.\n",
    "    \"\"\"\n",
    "    if 'Formule' in page_content:\n",
    "        beginning_index = page_content.index('Formule') + len('Formule')\n",
    "        ingredients = page_content[beginning_index : end_index].replace(' \\x95',',').strip()\n",
    "    elif 'Ingrédients' in page_content:\n",
    "        beginning_index = page_content.index('Ingrédients :') + len('Ingrédients :')\n",
    "        ingredients = page_content[beginning_index : end_index].replace(' \\x95',',').strip()\n",
    "    elif 'Ingredients' in page_content:\n",
    "        beginning_index = page_content.index('Ingredients :') + len('Ingredients :')\n",
    "        ingredients = page_content[beginning_index : end_index].replace(' \\x95',',').strip()  \n",
    "    else:\n",
    "        ingredients = ['NOT PROVIDED']\n",
    "        \n",
    "    if ' \\x95' not in ingredients:\n",
    "    #Sometimes there are some ingredients that have dots as a separator but it could be also used to shorten the ingredient. We'll replace it if there are more than 3.\n",
    "        ingredients = ingredients.replace('.',',')\n",
    "        \n",
    "    #Creating the list of ingredients   \n",
    "    ingredients = [ing.strip().upper() for ing in ingredients.split(',') if ing.strip().upper()]\n",
    "    \n",
    "    \n",
    "    #In case we have a string for ingredients that we couldn't slip because spaces were the separators, we will treat it \n",
    "    #as if there are no ingredients provided.\n",
    "    if ingredients != ['NOT PROVIDED'] and ',' not in ingredients:\n",
    "        ingredients = ['NOT PROVIDED']\n",
    "    \n",
    "    #Cleaning the list    \n",
    "    if \":\" in ingredients[0]:\n",
    "        ingredients[0] = ingredients[0].partition(':')[1].strip()\n",
    "    elif '.' in ingredients[-1]:\n",
    "        ingredients[-1] = ingredients[-1][:ingredients[-1].index('.')]\n",
    "    elif \"*\" in ingredients:\n",
    "        ingredients = [ing.partition('*')[0] for ing in ingredients]\n",
    "\n",
    "    ingredients = [ing[:-2] for ing in ingredients if ing[-2:] == ' 1']\n",
    "\n",
    "    #Some ingredients match INCI naming with their other naming which is placed in braquets so we want to keep those\n",
    "    inci_df = pd.read_csv('./Data/incibeauty_ingredients.csv')\n",
    "    inci_list_of_ing = inci_df['Names'].tolist()\n",
    "    \n",
    "    for ing in ingredients:\n",
    "        if '(' and ')' in ing:\n",
    "            if ing[ing.index('(') + 1 : ing.index(')')] in inci_list_of_ing:\n",
    "                ing = ing[ing.index('(') + 1 : ing.index(')')]\n",
    "            else:\n",
    "                to_delete = ing[ing.index('(') + 1 : ing.index(')')]\n",
    "                ing = ing.replace(to_delete, '').replace('  ', ' ')\n",
    "        elif '(' in ing:\n",
    "            if ing[:ing.index('(')].rstrip() in inci_list_of_ing:\n",
    "                ing = ing[:ing.index('(')].strip()\n",
    "            else:\n",
    "                ing = ing[ing.index('(') + 1 :]\n",
    "        elif ')' == ing[-1]:\n",
    "            ing = ing[:-1]\n",
    "            \n",
    "            \n",
    "    for ing in ingredients:\n",
    "        if '/' in ing:\n",
    "            if ing not in inci_list_of_ing:\n",
    "                ing = [ele.strip() for ele in ing.partition('/') if ele.strip() in inci_list_of_ing][0]\n",
    "                \n",
    "    return ingredients    "
   ]
  },
  {
   "cell_type": "code",
   "execution_count": 5,
   "metadata": {},
   "outputs": [],
   "source": [
    "def get_ingredients(url):\n",
    "    html = requests.get(url).content\n",
    "    soup = BeautifulSoup(html, \"html\")\n",
    "    page_content = soup.find(\"div\", \n",
    "                             attrs={\"class\": \"col-xs-12 col-sm-12 sticky-container\"}).getText().strip().replace('\\n', '')\n",
    "    if 'Voir les fiches composants' in page_content:\n",
    "        ingredients = list_ings_cleaned(page_content)\n",
    "    else:\n",
    "        ingredients = ['NOT PROVIDED']\n",
    "   \n",
    "    return ingredients"
   ]
  },
  {
   "cell_type": "raw",
   "metadata": {},
   "source": [
    "#Cell used to test on which page products there could be a problem\n",
    "\n",
    "for i in range(len(facial_care_df['Links'].tolist())):\n",
    "    print(i)\n",
    "    ing = get_ingredients(facial_care_df['Links'].tolist()[i])\n"
   ]
  },
  {
   "cell_type": "code",
   "execution_count": 7,
   "metadata": {},
   "outputs": [
    {
     "data": {
      "text/plain": [
       "16862"
      ]
     },
     "execution_count": 7,
     "metadata": {},
     "output_type": "execute_result"
    }
   ],
   "source": [
    "len(facial_care_df['Links'].tolist())"
   ]
  },
  {
   "cell_type": "code",
   "execution_count": 13,
   "metadata": {},
   "outputs": [
    {
     "ename": "AttributeError",
     "evalue": "'NoneType' object has no attribute 'getText'",
     "output_type": "error",
     "traceback": [
      "\u001b[1;31m---------------------------------------------------------------------------\u001b[0m",
      "\u001b[1;31mAttributeError\u001b[0m                            Traceback (most recent call last)",
      "\u001b[1;32m<ipython-input-13-55728a6e35ec>\u001b[0m in \u001b[0;36m<module>\u001b[1;34m\u001b[0m\n\u001b[1;32m----> 1\u001b[1;33m \u001b[0mfacial_care_df\u001b[0m\u001b[1;33m[\u001b[0m\u001b[1;34m'Ingredients'\u001b[0m\u001b[1;33m]\u001b[0m \u001b[1;33m=\u001b[0m \u001b[0mfacial_care_df\u001b[0m\u001b[1;33m[\u001b[0m\u001b[1;34m'Links'\u001b[0m\u001b[1;33m]\u001b[0m\u001b[1;33m.\u001b[0m\u001b[0mapply\u001b[0m\u001b[1;33m(\u001b[0m\u001b[0mget_ingredients\u001b[0m\u001b[1;33m)\u001b[0m\u001b[1;33m\u001b[0m\u001b[1;33m\u001b[0m\u001b[0m\n\u001b[0m",
      "\u001b[1;32m~\\anaconda3\\lib\\site-packages\\pandas\\core\\series.py\u001b[0m in \u001b[0;36mapply\u001b[1;34m(self, func, convert_dtype, args, **kwds)\u001b[0m\n\u001b[0;32m   3846\u001b[0m             \u001b[1;32melse\u001b[0m\u001b[1;33m:\u001b[0m\u001b[1;33m\u001b[0m\u001b[1;33m\u001b[0m\u001b[0m\n\u001b[0;32m   3847\u001b[0m                 \u001b[0mvalues\u001b[0m \u001b[1;33m=\u001b[0m \u001b[0mself\u001b[0m\u001b[1;33m.\u001b[0m\u001b[0mastype\u001b[0m\u001b[1;33m(\u001b[0m\u001b[0mobject\u001b[0m\u001b[1;33m)\u001b[0m\u001b[1;33m.\u001b[0m\u001b[0mvalues\u001b[0m\u001b[1;33m\u001b[0m\u001b[1;33m\u001b[0m\u001b[0m\n\u001b[1;32m-> 3848\u001b[1;33m                 \u001b[0mmapped\u001b[0m \u001b[1;33m=\u001b[0m \u001b[0mlib\u001b[0m\u001b[1;33m.\u001b[0m\u001b[0mmap_infer\u001b[0m\u001b[1;33m(\u001b[0m\u001b[0mvalues\u001b[0m\u001b[1;33m,\u001b[0m \u001b[0mf\u001b[0m\u001b[1;33m,\u001b[0m \u001b[0mconvert\u001b[0m\u001b[1;33m=\u001b[0m\u001b[0mconvert_dtype\u001b[0m\u001b[1;33m)\u001b[0m\u001b[1;33m\u001b[0m\u001b[1;33m\u001b[0m\u001b[0m\n\u001b[0m\u001b[0;32m   3849\u001b[0m \u001b[1;33m\u001b[0m\u001b[0m\n\u001b[0;32m   3850\u001b[0m         \u001b[1;32mif\u001b[0m \u001b[0mlen\u001b[0m\u001b[1;33m(\u001b[0m\u001b[0mmapped\u001b[0m\u001b[1;33m)\u001b[0m \u001b[1;32mand\u001b[0m \u001b[0misinstance\u001b[0m\u001b[1;33m(\u001b[0m\u001b[0mmapped\u001b[0m\u001b[1;33m[\u001b[0m\u001b[1;36m0\u001b[0m\u001b[1;33m]\u001b[0m\u001b[1;33m,\u001b[0m \u001b[0mSeries\u001b[0m\u001b[1;33m)\u001b[0m\u001b[1;33m:\u001b[0m\u001b[1;33m\u001b[0m\u001b[1;33m\u001b[0m\u001b[0m\n",
      "\u001b[1;32mpandas\\_libs\\lib.pyx\u001b[0m in \u001b[0;36mpandas._libs.lib.map_infer\u001b[1;34m()\u001b[0m\n",
      "\u001b[1;32m<ipython-input-5-8349951bdbae>\u001b[0m in \u001b[0;36mget_ingredients\u001b[1;34m(url)\u001b[0m\n\u001b[0;32m      2\u001b[0m     \u001b[0mhtml\u001b[0m \u001b[1;33m=\u001b[0m \u001b[0mrequests\u001b[0m\u001b[1;33m.\u001b[0m\u001b[0mget\u001b[0m\u001b[1;33m(\u001b[0m\u001b[0murl\u001b[0m\u001b[1;33m)\u001b[0m\u001b[1;33m.\u001b[0m\u001b[0mcontent\u001b[0m\u001b[1;33m\u001b[0m\u001b[1;33m\u001b[0m\u001b[0m\n\u001b[0;32m      3\u001b[0m     \u001b[0msoup\u001b[0m \u001b[1;33m=\u001b[0m \u001b[0mBeautifulSoup\u001b[0m\u001b[1;33m(\u001b[0m\u001b[0mhtml\u001b[0m\u001b[1;33m,\u001b[0m \u001b[1;34m\"html\"\u001b[0m\u001b[1;33m)\u001b[0m\u001b[1;33m\u001b[0m\u001b[1;33m\u001b[0m\u001b[0m\n\u001b[1;32m----> 4\u001b[1;33m     page_content = soup.find(\"div\", \n\u001b[0m\u001b[0;32m      5\u001b[0m                              attrs={\"class\": \"col-xs-12 col-sm-12 sticky-container\"}).getText().strip().replace('\\n', '')\n\u001b[0;32m      6\u001b[0m     \u001b[1;32mif\u001b[0m \u001b[1;34m'Voir les fiches composants'\u001b[0m \u001b[1;32min\u001b[0m \u001b[0mpage_content\u001b[0m\u001b[1;33m:\u001b[0m\u001b[1;33m\u001b[0m\u001b[1;33m\u001b[0m\u001b[0m\n",
      "\u001b[1;31mAttributeError\u001b[0m: 'NoneType' object has no attribute 'getText'"
     ]
    }
   ],
   "source": [
    "facial_care_df['Ingredients'] = facial_care_df['Links'].apply(get_ingredients)"
   ]
  },
  {
   "cell_type": "code",
   "execution_count": 9,
   "metadata": {},
   "outputs": [
    {
     "data": {
      "text/html": [
       "<div>\n",
       "<style scoped>\n",
       "    .dataframe tbody tr th:only-of-type {\n",
       "        vertical-align: middle;\n",
       "    }\n",
       "\n",
       "    .dataframe tbody tr th {\n",
       "        vertical-align: top;\n",
       "    }\n",
       "\n",
       "    .dataframe thead th {\n",
       "        text-align: right;\n",
       "    }\n",
       "</style>\n",
       "<table border=\"1\" class=\"dataframe\">\n",
       "  <thead>\n",
       "    <tr style=\"text-align: right;\">\n",
       "      <th></th>\n",
       "      <th>Names</th>\n",
       "      <th>Links</th>\n",
       "      <th>Types</th>\n",
       "      <th>Brands</th>\n",
       "      <th>Prices</th>\n",
       "      <th>Capacities</th>\n",
       "    </tr>\n",
       "  </thead>\n",
       "  <tbody>\n",
       "    <tr>\n",
       "      <th>10710</th>\n",
       "      <td>Baume à Lèvres - La véritable crème de Laponie</td>\n",
       "      <td>https://www.beaute-test.com/baume_a_levres_-_l...</td>\n",
       "      <td>baumes_levres</td>\n",
       "      <td>Polaar</td>\n",
       "      <td>25.94 €</td>\n",
       "      <td>15 g</td>\n",
       "    </tr>\n",
       "    <tr>\n",
       "      <th>10711</th>\n",
       "      <td>Baume Lèvres Propolis Karité</td>\n",
       "      <td>https://www.beaute-test.com/baume_levres_propo...</td>\n",
       "      <td>baumes_levres</td>\n",
       "      <td>Propolia</td>\n",
       "      <td>5.08 €</td>\n",
       "      <td>4 ml</td>\n",
       "    </tr>\n",
       "    <tr>\n",
       "      <th>10712</th>\n",
       "      <td>Tender Balm Crème Universelle</td>\n",
       "      <td>https://www.beaute-test.com/tender_balm_creme_...</td>\n",
       "      <td>baumes_levres</td>\n",
       "      <td>Oriflame</td>\n",
       "      <td>7.50 €</td>\n",
       "      <td>15 ml</td>\n",
       "    </tr>\n",
       "    <tr>\n",
       "      <th>10713</th>\n",
       "      <td>Baume à Lèvres - Fanta Topical</td>\n",
       "      <td>https://www.beaute-test.com/baume_a_levres_-_f...</td>\n",
       "      <td>baumes_levres</td>\n",
       "      <td>Lip Smacker</td>\n",
       "      <td>4.00 €</td>\n",
       "      <td>4 g</td>\n",
       "    </tr>\n",
       "    <tr>\n",
       "      <th>10714</th>\n",
       "      <td>Rosey Lip Balm</td>\n",
       "      <td>https://www.beaute-test.com/rosey_lip_balm_de_...</td>\n",
       "      <td>baumes_levres</td>\n",
       "      <td>De Mamiel</td>\n",
       "      <td>20.00 €</td>\n",
       "      <td>10 ml</td>\n",
       "    </tr>\n",
       "    <tr>\n",
       "      <th>10715</th>\n",
       "      <td>Hydracutane Stick</td>\n",
       "      <td>https://www.beaute-test.com/hydracutane-stick-...</td>\n",
       "      <td>baumes_levres</td>\n",
       "      <td>Laboratoire Roche</td>\n",
       "      <td>8.40 €</td>\n",
       "      <td>3.5 g</td>\n",
       "    </tr>\n",
       "  </tbody>\n",
       "</table>\n",
       "</div>"
      ],
      "text/plain": [
       "                                                Names  \\\n",
       "10710  Baume à Lèvres - La véritable crème de Laponie   \n",
       "10711                    Baume Lèvres Propolis Karité   \n",
       "10712                   Tender Balm Crème Universelle   \n",
       "10713                  Baume à Lèvres - Fanta Topical   \n",
       "10714                                  Rosey Lip Balm   \n",
       "10715                               Hydracutane Stick   \n",
       "\n",
       "                                                   Links          Types  \\\n",
       "10710  https://www.beaute-test.com/baume_a_levres_-_l...  baumes_levres   \n",
       "10711  https://www.beaute-test.com/baume_levres_propo...  baumes_levres   \n",
       "10712  https://www.beaute-test.com/tender_balm_creme_...  baumes_levres   \n",
       "10713  https://www.beaute-test.com/baume_a_levres_-_f...  baumes_levres   \n",
       "10714  https://www.beaute-test.com/rosey_lip_balm_de_...  baumes_levres   \n",
       "10715  https://www.beaute-test.com/hydracutane-stick-...  baumes_levres   \n",
       "\n",
       "                  Brands   Prices Capacities  \n",
       "10710             Polaar  25.94 €       15 g  \n",
       "10711           Propolia   5.08 €       4 ml  \n",
       "10712           Oriflame   7.50 €      15 ml  \n",
       "10713        Lip Smacker   4.00 €        4 g  \n",
       "10714          De Mamiel  20.00 €      10 ml  \n",
       "10715  Laboratoire Roche   8.40 €      3.5 g  "
      ]
     },
     "execution_count": 9,
     "metadata": {},
     "output_type": "execute_result"
    }
   ],
   "source": [
    "facial_care_df.loc[10710:10715]"
   ]
  },
  {
   "cell_type": "code",
   "execution_count": 17,
   "metadata": {},
   "outputs": [
    {
     "data": {
      "text/plain": [
       "16048"
      ]
     },
     "execution_count": 17,
     "metadata": {},
     "output_type": "execute_result"
    }
   ],
   "source": [
    "facial_care_df.Names.tolist().index('Lotion Tonique - Derma Pureté')"
   ]
  },
  {
   "cell_type": "code",
   "execution_count": null,
   "metadata": {},
   "outputs": [],
   "source": []
  }
 ],
 "metadata": {
  "kernelspec": {
   "display_name": "Python 3",
   "language": "python",
   "name": "python3"
  },
  "language_info": {
   "codemirror_mode": {
    "name": "ipython",
    "version": 3
   },
   "file_extension": ".py",
   "mimetype": "text/x-python",
   "name": "python",
   "nbconvert_exporter": "python",
   "pygments_lexer": "ipython3",
   "version": "3.8.3"
  }
 },
 "nbformat": 4,
 "nbformat_minor": 2
}

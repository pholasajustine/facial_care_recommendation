{
 "cells": [
  {
   "cell_type": "markdown",
   "metadata": {},
   "source": [
    "# Data cleaning"
   ]
  },
  {
   "cell_type": "markdown",
   "metadata": {},
   "source": [
    "#### We need to clean the ingredients and put them into the dataset"
   ]
  },
  {
   "cell_type": "markdown",
   "metadata": {},
   "source": [
    "Libraries"
   ]
  },
  {
   "cell_type": "code",
   "execution_count": 1,
   "metadata": {},
   "outputs": [],
   "source": [
    "import pandas as pd\n",
    "import re"
   ]
  },
  {
   "cell_type": "code",
   "execution_count": 2,
   "metadata": {},
   "outputs": [],
   "source": [
    "facial_care_df = pd.read_csv('./Data/bt_facial_care_products_without_ings.csv')\n",
    "ings_df = pd.read_csv('./Data/new_ingredients_content.csv')"
   ]
  },
  {
   "cell_type": "code",
   "execution_count": 3,
   "metadata": {},
   "outputs": [],
   "source": [
    "inci_df = pd.read_csv('./Data/incibeauty_ingredients.csv')\n",
    "inci_list_of_ing = inci_df['Names'].tolist()"
   ]
  },
  {
   "cell_type": "code",
   "execution_count": 4,
   "metadata": {},
   "outputs": [],
   "source": [
    "ings_df.columns = ['Index', 'Ingredients']"
   ]
  },
  {
   "cell_type": "code",
   "execution_count": 5,
   "metadata": {},
   "outputs": [
    {
     "data": {
      "text/html": [
       "<div>\n",
       "<style scoped>\n",
       "    .dataframe tbody tr th:only-of-type {\n",
       "        vertical-align: middle;\n",
       "    }\n",
       "\n",
       "    .dataframe tbody tr th {\n",
       "        vertical-align: top;\n",
       "    }\n",
       "\n",
       "    .dataframe thead th {\n",
       "        text-align: right;\n",
       "    }\n",
       "</style>\n",
       "<table border=\"1\" class=\"dataframe\">\n",
       "  <thead>\n",
       "    <tr style=\"text-align: right;\">\n",
       "      <th></th>\n",
       "      <th>Index</th>\n",
       "      <th>Ingredients</th>\n",
       "    </tr>\n",
       "  </thead>\n",
       "  <tbody>\n",
       "    <tr>\n",
       "      <th>0</th>\n",
       "      <td>0</td>\n",
       "      <td>782974 33 - Ingredients : Aqua / water • glyce...</td>\n",
       "    </tr>\n",
       "    <tr>\n",
       "      <th>1</th>\n",
       "      <td>1</td>\n",
       "      <td>Aqua, Dibutyl Adipate, Glycerin, Ethylhexyl Sa...</td>\n",
       "    </tr>\n",
       "    <tr>\n",
       "      <th>2</th>\n",
       "      <td>2</td>\n",
       "      <td>G926981 Ingrédients : Aqua / water, isononyl i...</td>\n",
       "    </tr>\n",
       "    <tr>\n",
       "      <th>3</th>\n",
       "      <td>3</td>\n",
       "      <td>Aqua/water/eau. dimethicone. c10-13 alkane. ci...</td>\n",
       "    </tr>\n",
       "    <tr>\n",
       "      <th>4</th>\n",
       "      <td>4</td>\n",
       "      <td>Aqua · Caprylic/Capric Triglyceride · Glycerin...</td>\n",
       "    </tr>\n",
       "  </tbody>\n",
       "</table>\n",
       "</div>"
      ],
      "text/plain": [
       "   Index                                        Ingredients\n",
       "0      0  782974 33 - Ingredients : Aqua / water • glyce...\n",
       "1      1  Aqua, Dibutyl Adipate, Glycerin, Ethylhexyl Sa...\n",
       "2      2  G926981 Ingrédients : Aqua / water, isononyl i...\n",
       "3      3  Aqua/water/eau. dimethicone. c10-13 alkane. ci...\n",
       "4      4  Aqua · Caprylic/Capric Triglyceride · Glycerin..."
      ]
     },
     "execution_count": 5,
     "metadata": {},
     "output_type": "execute_result"
    }
   ],
   "source": [
    "ings_df.head()"
   ]
  },
  {
   "cell_type": "code",
   "execution_count": 6,
   "metadata": {},
   "outputs": [],
   "source": [
    "ings_list=ings_df['Ingredients'].tolist()"
   ]
  },
  {
   "cell_type": "code",
   "execution_count": 7,
   "metadata": {},
   "outputs": [],
   "source": [
    "ings_df.drop('Index', axis=1, inplace=True)"
   ]
  },
  {
   "cell_type": "code",
   "execution_count": 8,
   "metadata": {},
   "outputs": [],
   "source": [
    "ings_list[8] = 'Aqua/water, glycerin, squalane, dimethicone, pentylene glycol, zea mays starch/corn starch, niacinamide, ammonium polyacryloyldimethyl taurate, myristyl myristate, sodium hydroxide, stearic acid, palmitic acid, synthetic fluorphlogopite, xanthan gum, capryloyl glycine, caprylyl glycol, ceramide NP, myristic acid, potassium cetyl phosphate, glyceryl stearate SE, (± may contain CI 77891/titanium dioxide CI 77491, CI 77492, CI 77499/iron oxides)'\n",
    "ings_list[85]='Aqua / water / eau,glycerin,octocrylene,homosalate,ethylhexyl salicylate,butyl methoxydibenzoylmethane,alcohol denat.,dimethicone,pentylene glycol,drometrizole trisiloxane,dibutyl lauroyl glutamide,ethylhexyl triazone,ammonium acryloyldimethyltaurate/vp copolymer,caprylyl glycol,ci 42090 / blue 1,dextrin palmitate,dimethicone/vinyl dimethicone crosspolymer,panthenol,phenoxyethanol,poly c10-30 alkyl acrylate,sodium hyaluronate,t-butyl alcohol,tocopherol,xanthan gum,parfum / fragrance'\n",
    "ings_list[21]='AQUA,GLYCERIN,STEARIC ACID,CAPRYLIC/CAPRIC TRIGLYCERIDE,PROPYLENE GLYCOL.,COCO-CAPRYLATE/CAPRATE,MACADAMIA TERNIFOLIA SEED OIL,SHOREA STENOPTERA SEED BUTTER,VITIS VINIFERA SEED OIL,SQUALANE,POTASSIUM CETYL PHOSPHATE,ANTHEMIS NOBILIS FLOWER WATER,BETAINE,DIMETHICONE,PENTYLENE GLYCOL.,TALC,APHLOIA THEIFORMIS LEAF EXTRACT,PANTHENOL,SODIUM POLYACRYLATE,PARFUM,HYDROXYETHYL ACRYLATE/SODIUM ACRYLOYLDIMETHYL TAURATE COPOLYMER,1,2-HEXANEDIOL,CAPRYLYL GLYCOL,PYRUS MALUS FRUIT EXTRACT,SALICYLIC ACID,XANTHAN GUM,TOCOPHERYL ACETATE,SYRINGA VULGARIS EXTRACT,POLYSORBATE 60,SODIUM HYDROXIDE,SODIUM HYALURONATE,SORBITAN ISOSTEARATE,HYALURONIC ACID,PANTOLACTONE,LINALOOL,GERANIOL,CITRIC ACID,POTASSIUM SORBATE,SODIUM BENZOATE,BENZYL ALCOHOL,ISOEUGENOL'\n",
    "ings_list[29]='AQUA / WATER,GLYCERIN,DIMETHICONE,ISOHEXADECANE,ALCOHOL DENAT.,SILICA,HYDROXYETHYLPIPERAZINE ETHANE SULFONIC ACID,PROPANEDIOL,SYNTHETIC WAX,PEG-10 DIMETHICONE,EPERUA FALCATA BARK EXTRACT,PEG-30 DIPOLYHYDROXYSTEARATE,STEARYL ALCOHOL,SORBITAN OLEATE,DIMETHICONE/PEG-10/15 CROSSPOLYMER,DIMETHICONE/POLYGLYCERIN-3 CROSSPOLYMER,CETEARETH-6,SODIUM ACRYLATES COPOLYMER,SODIUM CITRATE,SODIUM HYDROXIDE,SODIUM PHYTATE,CYCLODEXTRIN,ADENOSINE,ASCORBYL GLUCOSIDE,NYLON-12,ISOPROPYL ALCOHOL,PROPYLENE CARBONATE,DIPROPYLENE GLYCOL,CAPRYLIC/CAPRIC TRIGLYCERIDE,CAPRYLYL GLYCOL,ACETYL TETRAPEPTIDE-9,SYNTHETIC FLUORPHLOGOPITE,DISTEARDIMONIUM HECTORITE,DEXTRIN,PISUM SATIVUM EXTRACT / PEA EXTRACT,TOCOPHEROL,PHENOXYETHANOL,CI 15985 / YELLOW 6,CI 77891 / TITANIUM DIOXIDE,PARFUM / FRAGRANCE'\n",
    "ings_list[132]='AQUA / WATER,CAPRYLIC/CAPRIC TRIGLYCERIDE,CYCLOHEXASILOXANE,GLYCERIN,CETYL ALCOHOL,GLYCERYL STEARATE,NIACINAMIDE,MYRISTYL MYRISTATE,HYDROLYZED SOY PROTEIN,PEG-40 STEARATE,LIMNANTHES ALBA SEED OIL / MEADOWFOAM SEED OIL,HYDROXYETHYLPIPERAZINE ETHANE SULFONIC ACID,OCTYLDODECANOL,ACETYL TETRAPEPTIDE-9,CALCIUM PANTETHEINE SULFONATE,CAPRYLOYL SALICYLIC ACID,DISODIUM EDTA,HYDROXYPALMITOYL SPHINGANINE,PALMITOYL TETRAPEPTIDE-7,PALMITOYL TRIPEPTIDE-1,ACRYLAMIDE/SODIUM ACRYLOYLDIMETHYLTAURATE COPOLYMER,ACRYLONITRILE/METHYL METHACRYLATE/VINYLIDENE CHLORIDE COPOLYMER,BUTYLENE GLYCOL,CAPRYLYL GLYCOL,CARBOMER,CI 77491 / IRON OXIDES,CI 77891 / TITANIUM DIOXIDE,ISOBUTANE,ISOHEXADECANE,MICA,PENTYLENE GLYCOL,POLYSORBATE 20,POLYSORBATE 80,SODIUM LACTATE,SORBITAN OLEATE,SORBITAN TRISTEARATE,SYNTHETIC FLUORPHLOGOPITE,TIN OXIDE,ALPHA-ISOMETHYL IONONE,BENZYL ALCOHOL,BENZYL BENZOATE,CITRONELLOL,COUMARIN,GERANIOL,LIMONENE,LINALOOL,CI 15985 / YELLOW 6,PHENOXYETHANOL,PARFUM / FRAGRANCE'\n",
    "ings_list[109]='AQUA (WATER),ZINC OXIDE (NANO),CAPRYLYL METHICONE,GLYCERIN,ETHYLHEXYL METHOXYCINNAMATE,PEG-10 DIMETHICONE,DIMETHICONE,TITANIUM DIOXIDE (NANO),PHENYL TRIMETHICONE,ALCOHOL,METHYL TRIMETHICONE,BUTYLENE GLYCOL,TERMINALIA FERDINANDIANA FRUIT EXTRACT,HYDROGENATED POLYISOBUTENE,TRIETHOXYCAPRYLYLSILANE,PHENOXYETHANOL,STEARIC ACID,DIMETHICONE/PEG-10/15 CROSSPOLYMER,SODIUM CHLORIDE,ALUMINA,POTASSIUM SORBATE,PARFUM (FRAGRANCE),DIMETHICONE CROSSPOLYMER,ALUMINUM HYDROXIDE,DISTEARDIMONIUM HECTORITE,SODIUM LAUROYL GLUTAMATE,SODIUM HYALURONATE,LYSINE,PROPYLENE CARBONATE,HYALURONIC ACID,SILANETRIOL,MAGNESIUM CHLORIDE,CITRIC ACID,DIPROPYLENE GLYCOL,SORBIC ACID,BHT,TOCOPHEROL,[+ / - (MAY CONTAIN),CI 77007 (ULTRAMARINES),CI 77491,CI 77492,CI 77499 (IRON OXIDES),CI 77891 (TITANIUM DIOXIDE),MICA'\n",
    "ings_list[259]='AQUA / WATER,CYCLOHEXASILOXANE,GLYCERIN,MYRISTYL MYRISTATE,BUTYROSPERMUM PARKII BUTTER / SHEA BUTTER,STEARIC ACID,LIMNANTHES ALBA SEED OIL / MEADOWFOAM SEED OIL,ISOPROPYL ISOSTEARATE,CAPRYLIC/CAPRIC TRIGLYCERIDE,PALMITIC ACID,PEG-100 STEARATE,CERA ALBA / BEESWAX,GLYCERYL STEARATE,GLYCINE SOJA PROTEIN / SOYBEAN PROTEIN,HYDROLYZED SOY PROTEIN,ACETYL TRIFLUOROMETHYLPHENYL VALYLGLYCINE,DISODIUM EDTA,FAEX EXTRACT / YEAST EXTRACT,HYDROXYACETOPHENONE,SALICYLOYL PHYTOSPHINGOSINE,TRIETHANOLAMINE,RETINYL PALMITATE,CETYL ALCOHOL,STEARYL ALCOHOL,ACRYLAMIDE/SODIUM ACRYLOYLDIMETHYLTAURATE COPOLYMER,ACRYLONITRILE/METHYL METHACRYLATE/VINYLIDENE CHLORIDE COPOLYMER,CAPRYLYL GLYCOL,CITRIC ACID,ETHYLHEXYLGLYCERIN,ISOBUTANE,ISOHEXADECANE,MYRISTIC ACID,PEG-20 STEARATE,PENTYLENE GLYCOL,POLYSORBATE 80,SODIUM COCOYL GLUTAMATE,SORBITAN OLEATE,DIMETHICONE,ALPHA-ISOMETHYL IONONE,BENZYL ALCOHOL,BENZYL SALICYLATE,CITRONELLOL,GERANIOL,HEXYL CINNAMAL,LIMONENE,LINALOOL,PHENOXYETHANOL,POTASSIUM SORBATE,SODIUM BENZOATE,TOCOPHEROL,PARFUM / FRAGRANCE'\n",
    "ings_list[267]='Aqua, Glycerin, Octocrylene, Ethylhexyl Salicylate, Silica, Butyl Methoxydibenzoylmethane, Dimethicone, Peg-100 Stearate, Glyceryl Stearate, Octyldodecanol, Ammonium Polyacryloyldimethyl Taurate, Ascorbyl Glucoside, Benzyl Alcohol, Benzyl Salicylate, Butylphenyl Methylpropional, Capryloyl Salicylic Acid, Caprylyl Glycol, Dicaprylyl Carbonate, Disodium Edta, Linalool, Myristic Acid, Oxothiazolidinecarboxylic Acid, Palmitic Acid, Phenoxyethanol, Phenylethyl Resorcinol, Phyllanthus Emblica Fruit Extract, Punica Granatum Extract, Sodium Hyaluronate, Sodium Hydroxide, Steareth-100, Stearic Acid, T-Butyl Alcohol, Tocopherol, Triethanolamine, Xanthan Gum, Parfum'\n",
    "ings_list[294]='Aqua (Water), Camellia Japonica Flower Water, Squalane, Glycerin, Alcohol, Lauroyl Lysine, Propanediol, Canola Oil, Pentylene Glycol, Dimethicone, Zingiber Officinale (Ginger) Root Extract, Camellia Japonica Flower Extract, PEG-60 Glyceryl Isostearate, Ammonium Acryloyldimethyltaurate/​VP Copolymer, Dimethicone Crosspolymer, Parfum (Fragrance), Caprylyl Glycol, Sodium Acrylates/​C10-30 Alkyl Acrylate Crosspolymer, Silica, Arginine, Dipropylene Glycol, Phenoxyethanol, Polyquaternium-51, Sodium Hyaluronate, Tocopheryl Acetate, Phytic Acid, Ascorbyl Glucoside, Sodium Citrate, Sodium Benzoate, Citric Acid, Ci 77891 (Titanium Dioxide), Mica'\n",
    "ings_list[323]='Aqua (Water), Glycerin, Imperata Cylindrica Root Extract, Sodium Polyacrylate, Dimethicone, Iron Oxydes, Phenoxyethanol, Mica, Erythritol, Dimethicone/vinyl Dimethicone Crosspolymer, Silicon Dioxide, Cetyl Alcohol, Chlorphenesin, Trilinolein, Butyrospermum Parkii (Shea Butter), Hydrogenated Coconut Oil, Isopropyl Palmitate, Paraffinum Liquidum, Peg-2 Stearate, Stearyl Alcohol, Olus Oil, Cimicifuga Racemosa Root Extract, Ceteareth-25, Sodium Stearoyl Lactylate, Butylene Glycol, Tocopheryl Acetate, Sodium Lactate, Parfum (Fragrance), Triolein, Tripalmitin, Sodium Stearate, Aesculus Hippocastanum (Horse Chestnut) Extract, Lactitol, Xylitol, Trilinolenin, Caprylyl Glycol, Carbomer, Sodium Carboxymethyl Betaglucan, Tristearin, Pentylene Glycol, Glycine Soja (Soybean) Sterols, Polyquaternium-39, Sodium Benzoate, Potassium Sorbate, Mentha Piperita (Peppermint) Extract, Polydatin Glucoside, Sodium Hyaluronate, Homarine Hcl, Carnosine, Lactic Acid, Butyrospermum Parkii (Shea) Seedcake Extract, Triarachidin, Hydroxypropyl Bispalmitamide Mea, Acrylates/c10-30 Alkyl Acrylate Crosspolymer, Sodium Benzoate, Ethylhexylglycerin, Dextran, Acetyl Hexapeptide-1, Bht'\n",
    "ings_list[352]='aqua (water), octyldodecyl myristate, C15-19 alkane, glycerin, squalane, cetyl alcohol, glyceryl stearate, caprylic/capric triglyceride, cetearyl alcohol, pentylene glycol, PEG-75 stearate, ceteth-20, steareth-20, ethylhexylglycerin, butylene glycol, sorbitol, acrylates/C10-30 alkyl acrylate crosspolymer, lecithin, parfum (fragrance), sodium hyaluronate, tocopheryl acetate, o-cymen-5-ol, sodium acrylate/sodium acryloyldimethyl taurate copolymer, caprylyl glycol, plankton extract, sodium hydroxide, xanthan gum, polyglyceryl-6 laurate, limonene, benzyl salicylate, linalool, tetrasodium glutamate diacetate, polyglycerin-6, sodium benzoate, sorbitan oleate, sorbitan isostearate, potassium sorbate, citronellol, citric acid'\n",
    "ings_list[380]='Aqua/water, dicaprylyl ether, caprylic/capric triglyceride, simmondsia chinensis seed oil, glyceryl stearate, glycerin, propanediol, glyceryl stearate citrate, cetearyl alcohol, sodium stearoyl lactylate, aloe barbadensis leaf juice powder, centaurea cyanus flower water, argania spinosa kernel oil, lavandula hybrida oil, calcium PCA, sodium phytate, arginine, helianthus annuus seed oil, coco-betaine, alcohol, citric acid, xanthan gum, tocopherol, potassium sorbate, dehydroacetic acid, linalool, geraniol, citronellol, benzyl alcohol, parfum/fragrance'\n",
    "ings_list[393]='Non renseigné'\n",
    "ings_list[32]='AVENE THERMAL SPRING WATER (AVENE AQUA),PENTAERYTHRITYL TRACAPRYLATE/TETRACAPRATE,GLYCERIN COCO-CAPRYLATE/CAPRATE,TRIBEHENIN PEG-20 ESTERS,BUTYROSPERMUM PARKII (SHEA) BUTTER (BUTYROSPERMUM PARKII BUTTER),METHYL GLUCETH-20,DIMETHICONE,GLYCERYL LINOLEATE,BAKUCHIOL BEHENYL ALCOHOL,BIS-PEG-12 DIMETHICONE BEESWAX,POLYMETHYL METHACRYLATE,SIMMONDSIA CHINENSIS (JOJOBA) SEED OIL (SIMMONDSIA CHINENSIS SEED OIL),BEHENIC ACID,BENZOIC ACID,CAPRYLIC/CAPRIC TRIGLYCERIDE,CAPRYLYL GLYCOL,DIMETHICONE CROSSPOLYMER,DISODIUM EDTA,FRAGRANCE (PARFUM),GLYCERYL LINOLENATE,GLYCERYL OLEATE,GLYCERYL PALMITATE,GLYCERYL STEARATE,GLYCINE SOJA (SOYBEAN) OIL (GLYCINE SOJA OIL),HELIANTHUS ANNUUS (SUNFLOWER) SEED OIL (HELIANTHUS ANNUUS SEED OIL),HYDROGENATED POLYISOBUTENE,HYDROGENATED STARCH HYDROLYSATE,HYDROXYETHYL ACRYLATE/SODIUM ACRYLOYLDIMETHYL TAURATE COPOLYMER,MICA PEG-7 TRIMETHYLOLPROPANE COCONUT ETHER,PROPYLENE GLYCOL SILICA,SODIUM HYDROXIDE,SODIUM STEAROYL GLUTAMATE,SORBITAN ISOSTEARATE,TITANIUM DIOXIDE (CI 77891),TOCOPHEROL,TOCOPHERYL GLUCOSIDE TRIBEHENIN,VANILLA TAHITENSIS FRUIT EXTRACT WATER (AQUA)'\n",
    "ings_list[89]='Aqua (Mineral Spring Water), Glycerin, Ethylhexyl Palmitate, Vitis Vinifera (Grape) Seed Oil, Squalene (Phytosqualene), Dimethicone, Dimethicone Crosspolymer, Cetearyl Olivate, Stearyl Alcohol, Sorbitan Olivate, Caprylic/Capric Triglyceride, Erythritol, Steareth-25, Ceteth-20, Cetyl Palmitate, Glyceryl Stearate, Homarine HCl, Teprenone, Butylene Glycol, Cetyl Alcohol, Panthenol (Pro Vitamin B5), Disodium Lauriminodipropionate Tocopheryl Phospates, Phenoxyethanol, Sorbitan Palmitate, Ceratonia Siliqua (Carob Bean) Gum, Maris Aqua (Dead Sea Water), Sodium Hyaluronate, Palmitoyl Oligopeptide, Polysorbate-20, Carbomer, Tocopherol (Vitamin E), Palmitoyl Tetrapeptide-3, Hypericum Perforatum Flower/Leaf/Stem Extract, Olea Europaea (Olive)Fruit Oil, Cetraria Islandica Extract, Pichia\\Resveratrol Ferment Extract, Ethylhexylglycerin, Rosa Centifolia Flower Extract, Lycium Barbarum Fruit Extract, Rubus Ellipiticus Root Extract, Boron Nitride, Allantoin, Parfum (Fragrance), Dunaliella Salina Extract, Phoenix Dactylifera (Date) Fruit Extract, Propylene Glycol, Pentaerythrityl Tetra-di-t-butyl Hydroxyhycinnamate, Folic Acid, Geraniol, Citronellol, Coumarin, Alpha Isomethyl Ionone, Limonene, Linalool, Butylphenyl Methylpropional, Eugenol, Citral, Benzyl Alcohol, Benzyl Benzoate, Isoeugenol'\n",
    "ings_list[97]='Aqua, Prunus Persica (Peach) Kernel Oil, Prunus Amygdalus Dulcis (Sweet Almond) Oil, Alcohol, Glyceryl Stearate SE, Rosa Moschata Seed Oil, Hydrolyzed Beeswax, Lysolecithin, Sedum Purpureum Extract, Equisetum Arvense Extract, Commiphora Myrrha Extract, Parfum (Fragance)*, Limonene*, Linalool*, Citronellol*, Benzyl Alcohol*, Geraniol*, Citral*, Eugenol*, Farnesol*'\n",
    "ings_list[114]='TITANIUM DIOXIDE 9.0%, ZINC OXIDE 6.3%,WATER, SNAIL SECRETION FILTRATE, PHENYL TRIMETHICONE, DIMETHICONE, BUTYLENE GLYCOL, BUTYLENE GLYCOL DICAPRYLATE/DICAPRATE, ORBIGNYA OLEIFERA SEED OIL, BUTYLOCTYL SALICYLATE, CETYL PEG/PPG-10/1 DIMETHICONE, CYCLOPENTASILOXANE, CYCLOHEXASILOXANE, MAGNESIUM SULFATE, POLYGLYCERYL-4 ISOSTEARATE, DIMETHICONE/VINYL DIMETHICONE CROSSPOLYMER, ALUMINUM HYDROXIDE, HEXYL LAURATE, STEARIC ACID, CALCIUM STEARATE, CAPRYLYL GLYCOL, TRIETHOXYCAPRYLYLSILANE, ETHYLHEXYLGLYCERIN, CITRUS MEDICA LIMONUM (LEMON) PEEL OIL, TOCOPHERYL ACETATE, SORBITAN ISOSTEARATE, PHENOXYETHANOL, CITRUS AURANTIUM BERGAMIA (BERGAMOT) FRUIT OIL, 1,2-HEXANEDIOL, DISODIUM EDTA, CITRUS AURANTIUM DULCIS (ORANGE) PEEL OIL, CITRUS AURANTIFOLIA (LIME) OIL, VITIS VINIFERA (GRAPE) SEED OIL, PUNICA GRANATUM SEED OIL, PINUS SYLVESTRIS LEAF OIL, PERSEA GRATISSIMA (AVOCADO) OIL, NIACINAMIDE, CITRUS GRANDIS (GRAPEFRUIT) PEEL OIL, CHOLESTEROL, ANTHEMIS NOBILIS FLOWER WATER, LACTOBACILLUS/HONEYSUCKLE FLOWER/LICORICE ROOT/MORUS ALBA ROOT/PUERARIA LOBATA ROOT/SCHIZANDRA CHINENSIS FRUIT/SCUTELLARIA BAICALENSIS ROOT/SOPHORA JAPONICA FLOWER EXTRACT FERMENT FILTRATE, PERFLUOROHEXANE, OLEA EUROPAEA (OLIVE) LEAF EXTRACT, GLYCERIN, EUCALYPTUS GLOBULUS LEAF OIL, CAMELLIA SINENSIS LEAF EXTRACT, CHRYSANTHEMUM INDICUM FLOWER EXTRACT, PUERARIA LOBATA ROOT EXTRACT, PERFLUORODECALIN, MORUS ALBA FRUIT EXTRACT, MAGNOLIA KOBUS BARK EXTRACT, GLYCINE SOJA (SOYBEAN) SPROUT EXTRACT, DIOSPYROS KAKI LEAF EXTRACT, CINNAMOMUM CASSIA BARK EXTRACT, ARTEMISIA PRINCEPS LEAF EXTRACT, PENTAFLUOROPROPANE, CURCUMA LONGA (TURMERIC) ROOT EXTRACT, STEARETH-20, HYDROLYZED HYALURONIC ACID, COLLOIDAL OATMEAL, HYDROLYZED SILK, CITRIC ACID, SODIUM BENZOATE, POTASSIUM SORBATE, ALOE BARBADENSIS LEAF EXTRACT, N-HYDROXYSUCCINIMIDE, HYDROLYZED COLLAGEN, CAPRYLHYDROXAMIC ACID, TOCOPHEROL, THIAMINE HCL, RIBOFLAVIN, RETINYL PALMITATE, PANTOTHENIC ACID, PALMITOYL OLIGOPEPTIDE, NIACIN, FOLIC ACID, CHRYSIN, CARNITINE HCL, BIOTIN, ASCORBIC ACID, PALMITOYL TETRAPEPTIDE-7, CHLORHEXIDINE DIGLUCONATE. MAY CONTAIN: IRON OXIDES (CI 77492, CI 77491, CI 77499)'\n",
    "ings_list[148]='AQUA/WATER/EAU, HOMOSALATE, GLYCERIN, ETHYLHEXYL SALICYLATE, CARTHAMUS TINCTORIUS (SAFFLOWER) OLEOSOMES, BUTYL METHOXYDIBENZOYLMETHANE, PENTYLENE GLYCOL, BUTYLENE GLYCOL, C12-15 ALKYL BENZOATE, NIACINAMIDE, ZEA MAYS (CORN) STARCH, HYALURONIC ACID, SODIUM HYALURONATE, CITRULLUS LANATUS (WATERMELON) SEED EXTRACT, ADANSONIA DIGITATA PULP EXTRACT, BAROSMA BETULINA LEAF EXTRACT, ALOE BARBADENSIS LEAF JUICE, TOCOPHERYL ACETATE, GLUCONOLACTONE, SORBITAN OLEATE, ACRYLATES/C10-30 ALKYL ACRYLATE CROSSPOLYMER, SODIUM ACRYLATE/SODIUM ACRYLOYLDIMETHYL TAURATE COPOLYMER, DIMETHICONE, ISOHEXADECANE, ETHYLHEXYL METHOXYCRYLENE, POLYSORBATE 80, XANTHAN GUM, SODIUM HYDROXIDE, CITRIC ACID, POTASSIUM HYDROXIDE, TOCOPHEROL, TRISODIUM ETHYLENEDIAMINE DISUCCINATE, ETHYLHEXYLGLYCERIN, SODIUM BENZOATE, POTASSIUM SORBATE, PHENOXYETHANOL, FRAGRANCE/PARFUM, BENZYL SALICYLATE, CITRAL, HEXYL CINNAMAL, LIMONENE, LINALOOL, RED 33 (CI 17200)'\n",
    "ings_list[160]='AQUA (Eau),ALOE BARBADENSIS LEAF JUICE,GLYCERIN,METHYLPROPANEDIOL,GLYCERETH-26,DIGLYCERIN,BETAINE,CENTAUREA CYANUS FLOWER WATER (Eau De Fleurs De Bleuet),APHLOIA THEIFORMIS LEAF EXTRACT,INOSITOL,PANTHENOL,GELLAN GUM,SORBIC ACID,PARFUM,CALCIUM CHLORIDE,MORINGA PTERYGOSPERMA SEED EXTRACT,MALTODEXTRIN,PANTOLACTONE,SODIUM HYDROXIDE,SODIUM BENZOATE,CITRIC ACID,POTASSIUM SORBATE,'\n",
    "ings_list[215]='AQUA,GLYCERIN,ETHYLHEXYL STEARATE,DIMETHICONE,METHYLPROPANEDIOL,CETYL ALCOHOL,GLYCINE SOJA OIL,BRASSICA CAMPESTRIS SEED OIL,SESAMUM INDICUM SEED OIL,METHYL GLUCOSE SESQUISTEARATE,CENTAUREA CYANUS FLOWER WATER,TALC,PEG-100 STEARATE,GLYCERYL STEARATE,ACACIA SENEGAL GUM,APHLOIA THEIFORMIS LEAF EXTRACT,PHENOXYETHANOL,PARFUM,ETHYL LINOLEATE,CARBOMER,LECITHIN,PYRUS MALUS FRUIT EXTRACT,XANTHAN GUM,SORBIC ACID,TOCOPHERYL ACETATE,RETINYL PALMITATE,SODIUM HYDROXIDE,BHT,METHYLSILANOL MANNURONATE,TETRASODIUM EDTA,MESEMBRYANTHEMUM CRYSTALLINUM EXTRACT,SODIUM BENZOATE,POTASSIUM SORBATE,CITRIC ACID,TOCOPHEROL,PROPYL GALLATE'\n",
    "ings_list[222]='AQUA/WATER/EAU,GLYCERIN,ETHYLHEXYL COCOATE,DIMETHICONE,COCO-CAPRYLATE/CAPRATE,BUTYLENE GLYCOL,ANTHEMIS NOBILIS FLOWER WATER (Eau Florale De Camomille Romaine),ALCOHOL,CETEARYL ALCOHOL,TALC,CETYL ALCOHOL,METHYLPROPANEDIOL,SILICA (Silice),STEARYL ALCOHOL,CETEARETH-33,POTASSIUM CETYL PHOSPHATE,PARFUM/FRAGRANCE,INOSITOL,PROPYLENE GLYCOL,XANTHAN GUM (Gomme De Xanthane),TOCOPHERYL ACETATE,SALICYLIC ACID,ALLANTOIN,ACRYLATES/C10-30 ALKYL ACRYLATE CROSSPOLYMER,SORBIC ACID,SODIUM HYDROXIDE,SODIUM BENZOATE,CITRIC ACID,POTASSIUM SORBATE,[+/- (MAY CONTAIN/PEUT CONTENIR),CI 77491 (IRON OXIDES) (Oxyde De Fer),CI 77492 (IRON OXIDES) (Oxyde De Fer),CI 77499 (IRON OXIDES),CI 77891 (TITANIUM DIOXIDE)'\n",
    "ings_list[238]='Non renseigné'\n",
    "ings_list[248]='Non renseigné'\n",
    "ings_list[305]='AQUA (Eau),METHYLPROPANEDIOL,DIBUTYL ADIPATE,OCTOCRYLENE,ETHYLHEXYL SALICYLATE,HOMOSALATE,ALCOHOL,GLYCERIN,PHENYLBENZIMIDAZOLE SULFONIC ACID,BUTYL METHOXYDIBENZOYLMETHANE,ALOE BARBADENSIS LEAF JUICE,BEHENYL ALCOHOL,CETYL ALCOHOL,DIMETHICONE,ISODECYL NEOPENTANOATE,TALC,GLYCERYL STEARATE,PEG-100 STEARATE,HAMAMELIS VIRGINIANA WATER,HYDROXYETHYL ACRYLATE/SODIUM ACRYLOYLDIMETHYL TAURATE COPOLYMER,POTASSIUM CETYL PHOSPHATE,CARPOBROTUS EDULIS EXTRACT,PARFUM,HYDROXYACETOPHENONE,SODIUM HYDROXIDE,AMINOMETHYL PROPANOL,XANTHAN GUM (Gomme De Xanthane),SALICYLIC ACID,POLYSORBATE 60,SORBITAN ISOSTEARATE,TETRASODIUM EDTA,BENZYL ALCOHOL,SODIUM BENZOATE,CITRIC ACID,POTASSIUM SORBATE'\n",
    "ings_list[335]='Aqua/water, glycerin, octocrylene, niacinamide, rhamnose, alcohol, denat., homosalate, ethylhexyl salicylate, butyl methoxydibenzoylmethane, propylene glycol, poly C10-30 alkyl acrylate, adenosine, faex extract/yeast extract, pentaerythrityl tetra-di-T-butyl hydroxyhydrocinnamate, sodium acetylated hyaluronate, trisodium ethylenediamine disuccinate, tocopherol, cetyl alcohol, behenyl alcohol, caprylyl glycol, disodium ethylene dicocamide PEG-15 disulfate, ethylhexylglycerin, glyceryl stearate, glyceryl stearate citrate, silica, sodium acrylates crosspolymer-2, sodium polyacrylate, phenoxyethanol, parfum/fragrance'\n",
    "ings_list[345]='Water (Aqua), Glycerin, Orbignya Oleifera (Babaçu) Seed Oil, Simmondsia Chinensis (Jojoba) Seed Oil, Mica, Alcohol, Galactoarabinan, Squalane, Behenyl Alcohol, Titanium Dioxide (CI 77891), Butyrospermum Parkii (Shea) Butter, Olea Europaea (Olive) Oil Unsaponifiables, Glyceryl Stearate Citrate, Cucumis Sativus (Cucumber) Fruit Extract, Iris Germanica Root Extract, Hamamelis Virginiana (Witch Hazel) Distillate, Magnesium Aluminum Silicate, Xanthan Gum, Lactic Acid, Glyceryl Caprylate, Iron Oxides (CI 77491), Fragrance (Parfum)*, Limonene*, Linalool*, Citronellol*, Benzyl Benzoate*, Geraniol*, Citral*, Farnesol*'\n",
    "ings_list[367]='Avene thermal spring water (avene aqua), C12-15 alkyl benzoate, dicaprylyl carbonate, glycerin, methylene bis-benzotriazolyl tetramethylbutylphenol [nano], water (aqua), bis-ethylhexyloxyphenol methoxyphenyl triazine, diethylhexyl butamido triazone, diisopropyl adipate, dimethicone, methyl gluceth-20, silica, butyl methoxydibenzoylmethane, zea mays (corn) starch, glyceryl stearate, PEG-100 stearate, potassium ceryl phosphate, acrylates/C10-30 alkyl acrylate crosspolymer, ascophyllum nodosum extract, benzoic acid, caprylic/capric triglyceride, caprylyl glycol, decyl glucoside, disodium EDTA, fragrance (parfum), glyceryl behenate, glyceryl dibehenate, hydrogenated starch hydrolysate, propylene glycol, PVP, sodium hyaluronate, sodium hydroxide, stearyl alcohol, tocopherol, tocopheryl glucoside, tribehenin, xanthan gum'\n",
    "ings_list[428]='Aqua, Ethylhexyl Methoxycinnamate (Octinoxate, 7,5%, sunscreen), Glycerin (hydration/skin replenishing), Ethylhexyl Salicylate (Octisalate, 5%, sunscreen), Silica (absorbent agent), Octocrylene (2%, sunscreen), Butyl Methoxydibenzoylmethane (Avobenzone, 2%, sunscreen), Dimethicone (hydration), Benzyl Alcohol (preservative), Tocopherol (vitamin E/antioxidant), Chamomilla Recutita (Matricaria) Flower Extract (antioxidant), Vitis Vinifera (Grape) Seed Extract (antioxidant), Camellia Sinensis (Green Tea) Leaf Extract (antioxidant), Camellia Oleifera (Green Tea) Leaf Extract (antioxidant), Peucedanum Graveolens (Dill) Extract (antioxidant), Sambucus Nigra (Black Elderberry) Fruit Extract (antioxidant), Avena Sativa (Oat) Bran Extract (skin-soothing), Punica Granatum (Pomegranate) Extract (antioxidant), Lycium Barbarum (Goij) Fruit Extract (antioxidant), Hydrogenated Lecithin (skin-restoring), Titanium Dioxide (texture-enhancing/texture-enhancing), Dimethicone/Vinyl Dimethicone Crosspolymer (hydration), Diethylhexyl Syringylidenemalonate (hydration), Hydroxyethyl Acrylate/Sodium Acryloyldimethyl Taurate Copolymer (film-forming/suspending agent), Xanthan Gum (texture-enhancing), Sodium Carbomer (texture-enhancing), Sodium Benzoate (stabilizer), Potassium Sorbate (stabilizer), Phenoxyethanol (preservative)'\n",
    "ings_list[433]='AQUA (Eau),GLYCERIN,METHYLPROPANEDIOL,ISOPROPYL PALMITATE,ALOE BARBADENSIS LEAF JUICE,BETAINE,HYDROGENATED COCONUT OIL (Huile De Coprah Hydrogenee),CETEARYL ALCOHOL,COCO-CAPRYLATE/CAPRATE,HELIANTHUS ANNUUS SEED OIL (Huile De Tournesol),GLYCOL DISTEARATE,BUTYROSPERMUM PARKII BUTTER (Beurre De Karite),ANTHEMIS NOBILIS FLOWER WATER (Eau Florale De Camomille Romaine),BEHENYL ALCOHOL,APHLOIA THEIFORMIS LEAF EXTRACT,DIMETHICONE,CETEARETH-33,PARFUM,INOSITOL,HYDROXYACETOPHENONE,ETHYLHEXYLGLYCERIN,ACRYLATES/C10-30 ALKYL ACRYLATE CROSSPOLYMER,TOCOPHERYL ACETATE,SORBIC ACID,CAESALPINIA SPINOSA GUM (Gomme Tara),XANTHAN GUM (Gomme De Xanthane),SODIUM HYDROXIDE,SODIUM HYALURONATE,SODIUM GLUCONATE,SODIUM POLYACRYLATE,METHYLSILANOL MANNURONATE,SODIUM BENZOATE,CITRIC ACID,POTASSIUM SORBATE,TOCOPHEROL,CI 77891 (Titanium Dioxide)'\n",
    "ings_list[439]='Non renseigné'\n",
    "ings_list[445]='Non renseigné'\n",
    "ings_list[458]='Aqua/water, glycerin, octocrylene, homosalate, ethylhexyl salicylate, dimethicone, silica, butyl methoxydibenzoylmethane, PEG-100 stearate, glyceryl stearate, glycolic acid, stearic acid, dicaprylyl carbonate, steareth-100, dimethicone/vinyl dimethicone crosspolymer, sodium hydroxide, sodium hyaluronate, myristic acid, cyclodextrin, palmitic acid, phenoxyethanol, phenylethyl resorcinol, guanosine, ammonium polyacryloyldimethyl taurate, ascorbyl glucoside, tocopherol, caprylyl glycol, trisodium ethylenediamine disuccinate, xanthan gum, pentaerythrityl tetra-di-t-butyl hydroxyhydrocinnamate, Pisum sativum extract/pea extract, parfum/fragrance'\n",
    "ings_list[459]='Titanium Dioxide (7.0%) Zinc Oxide (9.0%),Aqua, Cyclopentasiloxane, Dicaprylyl Ether, Butylene Glycol, Polyglyceryl-3 Polydimethylsiloxyethyl Dimethicone, Lauryl PEG-9 Polydimethylsiloxyethyl Dimethicone, Stearic Acid, Aluminum Hydroxide, Dimethicone, Leuconostoc/Radish Root Ferment Filtrate, Camellia Sinensis Leaf Extract, Avena Sativa (Oat), Kernel Extract, Boerhavia Diffusa Root Extract, Oxothiazolidine, Citrullus Vulgaris (Watermelon) Fruit Extract, Pyrus Malus (Apple) Fruit Extract, Sodium Hyaluronate, Sodium PCA, Sodium Lactate, Lens Esculenta, (Lentil) Fruit Extract, Ascorbyl Tetraisopalmitate, Lavandula Spica (Lavender) Flower Oil, Eucalyptus Globulus Leaf Oil, Lavandula Hybrida Oil Sodium DNA, Tocopherol , Caprylic/Capric Triglyceride, Carbomer, Pentylene Glycol, Hydroxyphenyl Propamidobenzoic Acid, Bisabolol, Zingiber Officinale (Ginger) Fruit Extract, Dimethicone/Vinyl Dimethicone Crosspolymer, Silica, Dipotassium Glycyrrhizate, Triethoxysilylethyl Polydimethylsiloxyethyl Hexyl Dimethicone, Dimethicone/PEG-10/15 Crosspolymer, PEG/PPG-18/18 Dimethicone, Glycerin, Cyclomethicone, Tocopheryl Acetate, Disodium EDTA, Sodium Benzoate, Sodium, Chloride, Sodium Citrate, Ethylhexylglycerin, Phenoxyethanol'\n",
    "ings_list[7081]='Aqua (Water), Butylene Glycol Cocoate, Glycerin, Cetearyl Alcohol, Caprylic/Capric Glycerides, Squalane, Avena Sativa (Oat) Kernel Extract*, Eclipta Prostrata Extract, Spilanthes Acmella Flower Extract, Punica Granatum Fruit Extract, Melia Azadirachta Leaf Extract, Padina Pavonica Thallus Extract, Moringa Pterygosperma Seed Oil, Nelumbo Nucifera Flower Extract*, Panax Ginseng Root Extract*, Hibiscus Sabdariffa Flower Extract, Tocopheryl Acetate, Ceteareth-20, Carbomer, Chlorphenesin, Parfum (Fragrance), Alcohol, O-Cymen-5-Ol, Disodium EDTA, Tris(Tetramethylhydroxypiperidinol) Citrate, Sodium Benzoate, Sodium Hydroxide, Citric Acid, Potassium Sorbate, Butylphenyl Methylpropional, Limonene, Linalool'"
   ]
  },
  {
   "cell_type": "code",
   "execution_count": 16,
   "metadata": {},
   "outputs": [],
   "source": [
    "def split_ingredients(list_of_ingredients):\n",
    "    list_of_ingredients= str(list_of_ingredients)\n",
    "    if \":\" in list_of_ingredients[:40]:\n",
    "        list_of_ingredients = list_of_ingredients[list_of_ingredients.index(':') + 1 :]\n",
    "    \n",
    "    if '•' in list_of_ingredients:\n",
    "        return list_of_ingredients.replace('•',',').upper().split(',')\n",
    "    elif '●' in list_of_ingredients:\n",
    "        return list_of_ingredients.replace('●',',').upper().split(',')\n",
    "    elif ' ･ ' in list_of_ingredients:\n",
    "        return list_of_ingredients.replace(' ･ ',',').upper().split(',')\n",
    "    elif ' · ' in list_of_ingredients:\n",
    "        return list_of_ingredients.replace(' · ',',').upper().split(',')\n",
    "    elif ' - ' in list_of_ingredients:\n",
    "        return list_of_ingredients.replace(' - ',',').upper().split(',')\n",
    "    elif ' – ' in list_of_ingredients:\n",
    "        return list_of_ingredients.replace(' – ',',').upper().split(',')\n",
    "    elif '|' in list_of_ingredients:\n",
    "        return list_of_ingredients.replace('|', ',').upper().split(',')\n",
    "    elif ';' in list_of_ingredients:\n",
    "        return list_of_ingredients.replace(';', ',').upper().split(',')\n",
    "    elif '.' in list_of_ingredients:\n",
    "        return list_of_ingredients.replace('.', ',').upper().split(',')\n",
    "    elif ',' in list_of_ingredients:\n",
    "        return list_of_ingredients.upper().split(',')\n",
    "    else:\n",
    "        return list_of_ingredients.upper()"
   ]
  },
  {
   "cell_type": "code",
   "execution_count": 10,
   "metadata": {},
   "outputs": [],
   "source": [
    "def clean_ingredients(ingredients):\n",
    "    if '.' in ingredients[-1]:\n",
    "        ingredients[-1] = ingredients[-1][:ingredients[-1].index('.')]\n",
    "        \n",
    "    ingredients = [ing.partition('(*)')[0] for ing in ingredients]\n",
    "\n",
    "    ingredients = [ing.partition('*')[0] for ing in ingredients]\n",
    "    \n",
    "    for ing in ingredients:\n",
    "        if ' / ' in ing:\n",
    "            ingredients[ingredients.index(ing)] = ing.replace(' / ', '/')\n",
    "            \n",
    "    for ing in ingredients:\n",
    "        if '[NANO]' in ing:\n",
    "            ingredients[ingredients.index(ing)] = ing.replace('[NANO]', '').strip()\n",
    "        elif '(NANO)' in ing:\n",
    "            ingredients[ingredients.index(ing)] = ing.replace('(NANO)', '').strip()\n",
    "            \n",
    "    for ing in ingredients:\n",
    "        if \"[\" in ing:\n",
    "            ingredients[ingredients.index(ing)] = ing.partition('[')[0].strip()\n",
    "        \n",
    "    return ingredients"
   ]
  },
  {
   "cell_type": "code",
   "execution_count": 11,
   "metadata": {},
   "outputs": [],
   "source": [
    "def match_inci_names(ingredients):\n",
    "    # Some ingredients match INCI naming with their other naming which is placed in braquets so we want to keep those\n",
    "\n",
    "    for ing in ingredients:\n",
    "        if '(' in ing and ')' in ing:\n",
    "            if ing[ing.index('(') + 1: ing.index(')')] in inci_list_of_ing:\n",
    "                ingredients[ingredients.index(ing)] = ing[ing.index('(') + 1: ing.index(')')]\n",
    "            else:\n",
    "                to_delete = ing[ing.index('('): ing.index(')') + 1]\n",
    "                ing_idx = ingredients.index(ing)\n",
    "                ingredients[ing_idx] = ing.replace(to_delete, '').replace('  ', ' ')\n",
    "                # In case, we have another set of parenthesis, we are getting rid of them\n",
    "                ing = ingredients[ing_idx]\n",
    "                if '(' in ing and ')' in ing:\n",
    "                    to_delete = ing[ing.index('('): ing.index(')') + 1]\n",
    "                    ingredients[ing_idx] = ing.replace(to_delete, '').replace('  ', ' ')\n",
    "        elif '(' in ing:\n",
    "            if ing[:ing.index('(')].rstrip() in inci_list_of_ing:\n",
    "                ingredients[ingredients.index(ing)] = ing[:ing.index('(')].strip()\n",
    "            else:\n",
    "                ingredients[ingredients.index(ing)] = ing[ing.index('(') + 1:]\n",
    "        elif ')' == ing[-1]:\n",
    "            ingredients[ingredients.index(ing)] = ing.replace(')', '')\n",
    "\n",
    "    for ing in ingredients:\n",
    "        if 'AQUA' in ing and ing != 'AQUA':\n",
    "            ingredients[ingredients.index(ing)] = 'AQUA'\n",
    "\n",
    "            # We may have removed the point from 'ALCOHOL DENAT.', we'll put it again\n",
    "    for ing in ingredients:\n",
    "        if ing == 'ALCOHOL DENAT':\n",
    "            ingredients[ingredients.index(ing)] = 'ALCOHOL DENAT.'\n",
    "\n",
    "    return ingredients"
   ]
  },
  {
   "cell_type": "code",
   "execution_count": 12,
   "metadata": {},
   "outputs": [],
   "source": [
    "def ingredient_with_slash(ingredients):\n",
    "    inci_df = pd.read_csv('./Data/incibeauty_ingredients.csv')\n",
    "    inci_list_of_ing = inci_df['Names'].tolist()\n",
    "\n",
    "    for ing in ingredients:\n",
    "            if '/' in ing:\n",
    "                if ing not in inci_list_of_ing:\n",
    "                    ingredients[ingredients.index(ing)] = ing.partition('/')[0]\n",
    "    return ingredients"
   ]
  },
  {
   "cell_type": "code",
   "execution_count": 13,
   "metadata": {},
   "outputs": [],
   "source": [
    "def list_ings_cleaned(content):\n",
    "    content_cleaned = split_ingredients(content)\n",
    "    content_cleaned = [element for element in content_cleaned if element]\n",
    "    if len(content_cleaned) > 5:\n",
    "        content_cleaned = match_inci_names([ing.strip() for ing in clean_ingredients(content_cleaned) if ing.strip()])\n",
    "        for ing in content_cleaned:\n",
    "            if '(' in ing:\n",
    "                content_cleaned = match_inci_names(content_cleaned)\n",
    "        content_cleaned = ingredient_with_slash(content_cleaned)\n",
    "        return content_cleaned\n",
    "    else:\n",
    "        return 'NON RENSEIGNE'"
   ]
  },
  {
   "cell_type": "raw",
   "metadata": {},
   "source": [
    "for i in range(len(ings_list)):\n",
    "    print(i)\n",
    "    list_ings_cleaned(ings_list[i])"
   ]
  },
  {
   "cell_type": "code",
   "execution_count": 14,
   "metadata": {},
   "outputs": [],
   "source": [
    "def remove_brackets(ingredients):\n",
    "    for ing in ingredients:\n",
    "        if '[' and ']' in ing:\n",
    "                to_delete = ing[ing.index('[') : ing.index(']') + 1]\n",
    "                ingredients[ingredients.index(ing)] = ing.replace(to_delete, '').replace('  ', ' ')\n",
    "    return [ing for ing in ingredients if ing]"
   ]
  },
  {
   "cell_type": "code",
   "execution_count": 18,
   "metadata": {},
   "outputs": [],
   "source": [
    "facial_care_df['Ingredients'] = ings_df.Ingredients.apply(list_ings_cleaned)"
   ]
  },
  {
   "cell_type": "code",
   "execution_count": 19,
   "metadata": {},
   "outputs": [],
   "source": [
    "facial_care_df.to_csv('./Data/bt_facial_care_products_with_ings.csv', index=False)"
   ]
  },
  {
   "cell_type": "code",
   "execution_count": null,
   "metadata": {},
   "outputs": [],
   "source": []
  }
 ],
 "metadata": {
  "kernelspec": {
   "display_name": "Python 3",
   "language": "python",
   "name": "python3"
  },
  "language_info": {
   "codemirror_mode": {
    "name": "ipython",
    "version": 3
   },
   "file_extension": ".py",
   "mimetype": "text/x-python",
   "name": "python",
   "nbconvert_exporter": "python",
   "pygments_lexer": "ipython3",
   "version": "3.8.3"
  }
 },
 "nbformat": 4,
 "nbformat_minor": 2
}

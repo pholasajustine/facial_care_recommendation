{
 "cells": [
  {
   "cell_type": "markdown",
   "metadata": {},
   "source": [
    "# Web Scraping"
   ]
  },
  {
   "cell_type": "markdown",
   "metadata": {},
   "source": [
    "#### We're web scrapping the skin care cosmetics from Beauté test to get all the cosmetics names, their ingredients, their size content, their price, for which skin types it's more appropirate, and other features that may be interesting."
   ]
  },
  {
   "cell_type": "markdown",
   "metadata": {},
   "source": [
    "Libraries"
   ]
  },
  {
   "cell_type": "code",
   "execution_count": 1,
   "metadata": {},
   "outputs": [],
   "source": [
    "import requests\n",
    "from bs4 import BeautifulSoup\n",
    "import pandas as pd\n",
    "import re\n",
    "# from pprint import pprint\n",
    "# from lxml import html\n",
    "# from lxml.html import fromstring\n",
    "# import urllib.request\n",
    "# from urllib.request import urlopen\n",
    "# import random\n",
    "# import scrapy"
   ]
  },
  {
   "cell_type": "markdown",
   "metadata": {},
   "source": [
    "We're going to first load the data we got from part1."
   ]
  },
  {
   "cell_type": "code",
   "execution_count": 2,
   "metadata": {},
   "outputs": [],
   "source": [
    "facial_care_df = pd.read_csv('./Data/beautetest_facial_care_products.csv')"
   ]
  },
  {
   "cell_type": "code",
   "execution_count": 3,
   "metadata": {},
   "outputs": [
    {
     "data": {
      "text/html": [
       "<div>\n",
       "<style scoped>\n",
       "    .dataframe tbody tr th:only-of-type {\n",
       "        vertical-align: middle;\n",
       "    }\n",
       "\n",
       "    .dataframe tbody tr th {\n",
       "        vertical-align: top;\n",
       "    }\n",
       "\n",
       "    .dataframe thead th {\n",
       "        text-align: right;\n",
       "    }\n",
       "</style>\n",
       "<table border=\"1\" class=\"dataframe\">\n",
       "  <thead>\n",
       "    <tr style=\"text-align: right;\">\n",
       "      <th></th>\n",
       "      <th>Names</th>\n",
       "      <th>Links</th>\n",
       "      <th>Types</th>\n",
       "      <th>Brands</th>\n",
       "      <th>Prices</th>\n",
       "      <th>Capacities</th>\n",
       "    </tr>\n",
       "  </thead>\n",
       "  <tbody>\n",
       "    <tr>\n",
       "      <th>0</th>\n",
       "      <td>Soin Revolumisant Intense Anti-Âge Jour - Revi...</td>\n",
       "      <td>https://www.beaute-test.com/soin-revolumisant-...</td>\n",
       "      <td>cremes_jour</td>\n",
       "      <td>L'Oréal Paris</td>\n",
       "      <td>11.08 €</td>\n",
       "      <td>50 ml</td>\n",
       "    </tr>\n",
       "    <tr>\n",
       "      <th>1</th>\n",
       "      <td>Crème de Jour Anti-Rides Q10 - Cien</td>\n",
       "      <td>https://www.beaute-test.com/day_cream_q10_-_ci...</td>\n",
       "      <td>cremes_jour</td>\n",
       "      <td>Lidl</td>\n",
       "      <td>12.00 €</td>\n",
       "      <td>50 ml</td>\n",
       "    </tr>\n",
       "    <tr>\n",
       "      <th>2</th>\n",
       "      <td>BB Crème</td>\n",
       "      <td>https://www.beaute-test.com/soin_miracle_perfe...</td>\n",
       "      <td>cremes_jour</td>\n",
       "      <td>Garnier</td>\n",
       "      <td>5.49 €</td>\n",
       "      <td>50 ml</td>\n",
       "    </tr>\n",
       "    <tr>\n",
       "      <th>3</th>\n",
       "      <td>BB Skin Detox Fluid SPF 25</td>\n",
       "      <td>https://www.beaute-test.com/bb-skin-detox-flui...</td>\n",
       "      <td>cremes_jour</td>\n",
       "      <td>Clarins</td>\n",
       "      <td>26.90 €</td>\n",
       "      <td>45 ml</td>\n",
       "    </tr>\n",
       "    <tr>\n",
       "      <th>4</th>\n",
       "      <td>Soin Global Anti-Rides Jour - Lift+ Algo Rétinol</td>\n",
       "      <td>https://www.beaute-test.com/soin-global-anti-r...</td>\n",
       "      <td>cremes_jour</td>\n",
       "      <td>Diadermine</td>\n",
       "      <td>12.05 €</td>\n",
       "      <td>50 ml</td>\n",
       "    </tr>\n",
       "  </tbody>\n",
       "</table>\n",
       "</div>"
      ],
      "text/plain": [
       "                                               Names  \\\n",
       "0  Soin Revolumisant Intense Anti-Âge Jour - Revi...   \n",
       "1                Crème de Jour Anti-Rides Q10 - Cien   \n",
       "2                                           BB Crème   \n",
       "3                         BB Skin Detox Fluid SPF 25   \n",
       "4   Soin Global Anti-Rides Jour - Lift+ Algo Rétinol   \n",
       "\n",
       "                                               Links        Types  \\\n",
       "0  https://www.beaute-test.com/soin-revolumisant-...  cremes_jour   \n",
       "1  https://www.beaute-test.com/day_cream_q10_-_ci...  cremes_jour   \n",
       "2  https://www.beaute-test.com/soin_miracle_perfe...  cremes_jour   \n",
       "3  https://www.beaute-test.com/bb-skin-detox-flui...  cremes_jour   \n",
       "4  https://www.beaute-test.com/soin-global-anti-r...  cremes_jour   \n",
       "\n",
       "          Brands   Prices Capacities  \n",
       "0  L'Oréal Paris  11.08 €      50 ml  \n",
       "1           Lidl  12.00 €      50 ml  \n",
       "2        Garnier   5.49 €      50 ml  \n",
       "3        Clarins  26.90 €      45 ml  \n",
       "4     Diadermine  12.05 €      50 ml  "
      ]
     },
     "execution_count": 3,
     "metadata": {},
     "output_type": "execute_result"
    }
   ],
   "source": [
    "facial_care_df.head()"
   ]
  },
  {
   "cell_type": "code",
   "execution_count": 4,
   "metadata": {},
   "outputs": [
    {
     "data": {
      "text/plain": [
       "'https://www.beaute-test.com/bb-skin-detox-fluid-spf-25-clarins.php'"
      ]
     },
     "execution_count": 4,
     "metadata": {},
     "output_type": "execute_result"
    }
   ],
   "source": [
    "facial_care_df['Links'].tolist()[3]"
   ]
  },
  {
   "cell_type": "markdown",
   "metadata": {},
   "source": [
    "We want to get for which type of skin it's adapted to"
   ]
  },
  {
   "cell_type": "code",
   "execution_count": null,
   "metadata": {},
   "outputs": [],
   "source": []
  }
 ],
 "metadata": {
  "kernelspec": {
   "display_name": "Python 3",
   "language": "python",
   "name": "python3"
  },
  "language_info": {
   "codemirror_mode": {
    "name": "ipython",
    "version": 3
   },
   "file_extension": ".py",
   "mimetype": "text/x-python",
   "name": "python",
   "nbconvert_exporter": "python",
   "pygments_lexer": "ipython3",
   "version": "3.8.3"
  }
 },
 "nbformat": 4,
 "nbformat_minor": 2
}

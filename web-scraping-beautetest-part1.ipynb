{
 "cells": [
  {
   "cell_type": "markdown",
   "metadata": {},
   "source": [
    "# Web Scraping"
   ]
  },
  {
   "cell_type": "markdown",
   "metadata": {},
   "source": [
    "#### We're web scrapping the facial care products from Beauté test to get all their names, their ingredients, their size content, their price, for which skin types it's more appropirate, and other features that may be interesting."
   ]
  },
  {
   "cell_type": "markdown",
   "metadata": {},
   "source": [
    "Libraries"
   ]
  },
  {
   "cell_type": "code",
   "execution_count": 1,
   "metadata": {},
   "outputs": [],
   "source": [
    "import requests\n",
    "from bs4 import BeautifulSoup\n",
    "import pandas as pd\n",
    "import re"
   ]
  },
  {
   "cell_type": "markdown",
   "metadata": {},
   "source": [
    "We need to get through the listing pages first to then go on each product page and get their ingredients and other interesting information."
   ]
  },
  {
   "cell_type": "code",
   "execution_count": 2,
   "metadata": {},
   "outputs": [],
   "source": [
    "bt_hp = 'https://www.beaute-test.com/'"
   ]
  },
  {
   "cell_type": "code",
   "execution_count": 3,
   "metadata": {},
   "outputs": [],
   "source": [
    "links_listing_day_cream = [bt_hp + 'cremes_jour.php?page=' + str(i) for i in range(65)[1:]]"
   ]
  },
  {
   "cell_type": "code",
   "execution_count": 4,
   "metadata": {},
   "outputs": [],
   "source": [
    "links_listing_night_cream = [bt_hp + 'cremes_nuit.php?page=' + str(i) for i in range(29)[1:]]"
   ]
  },
  {
   "cell_type": "code",
   "execution_count": 5,
   "metadata": {},
   "outputs": [],
   "source": [
    "links_listing_day_and_night_cream = [bt_hp + 'cremes_jour_nuit.php?page=' + str(i) for i in range(82)[1:]]"
   ]
  },
  {
   "cell_type": "code",
   "execution_count": 6,
   "metadata": {},
   "outputs": [],
   "source": [
    "links_listing_face_and_body_cream = [bt_hp + 'visage_et_corps.php?page=' + str(i) for i in range(20)[1:]]"
   ]
  },
  {
   "cell_type": "code",
   "execution_count": 7,
   "metadata": {},
   "outputs": [],
   "source": [
    "links_listing_eye_cream = [bt_hp + 'contours_des_yeux.php?page=' + str(i) for i in range(49)[1:]]"
   ]
  },
  {
   "cell_type": "code",
   "execution_count": 8,
   "metadata": {},
   "outputs": [],
   "source": [
    "links_listing_serum = [bt_hp + 'serums.php?page=' + str(i) for i in range(82)[1:]]"
   ]
  },
  {
   "cell_type": "code",
   "execution_count": 9,
   "metadata": {},
   "outputs": [],
   "source": [
    "links_listing_exfoliation = [bt_hp + 'gommages_visage.php?page=' + str(i) for i in range(29)[1:]]"
   ]
  },
  {
   "cell_type": "code",
   "execution_count": 10,
   "metadata": {},
   "outputs": [],
   "source": [
    "links_listing_mask = [bt_hp + 'masques_de_beaute.php?page=' + str(i) for i in range(80)[1:]]"
   ]
  },
  {
   "cell_type": "code",
   "execution_count": 11,
   "metadata": {},
   "outputs": [],
   "source": [
    "links_listing_lip_balms = [bt_hp + 'baumes_levres.php?page=' + str(i) for i in range(45)[1:]]"
   ]
  },
  {
   "cell_type": "code",
   "execution_count": 12,
   "metadata": {},
   "outputs": [],
   "source": [
    "links_listing_specific_skin_treatments = [bt_hp + 'soins_specifiques.php?page=' + str(i) for i in range(63)[1:]]"
   ]
  },
  {
   "cell_type": "code",
   "execution_count": 13,
   "metadata": {},
   "outputs": [],
   "source": [
    "links_listing_make_up_removers = [bt_hp + 'demaquillants.php?page=' + str(i) for i in range(95)[1:]]"
   ]
  },
  {
   "cell_type": "code",
   "execution_count": 14,
   "metadata": {},
   "outputs": [],
   "source": [
    "links_listing_eye_make_up_removers = [bt_hp + 'demaquillants_yeux.php?page=' + str(i) for i in range(10)[1:]]"
   ]
  },
  {
   "cell_type": "code",
   "execution_count": 15,
   "metadata": {},
   "outputs": [],
   "source": [
    "links_listing_lotions = [bt_hp + 'lotions.php?page=' + str(i) for i in range(45)[1:]]"
   ]
  },
  {
   "cell_type": "code",
   "execution_count": 16,
   "metadata": {},
   "outputs": [],
   "source": [
    "cosmetics_links = [links \n",
    "                   for sublist in [links_listing_day_cream, links_listing_night_cream, links_listing_day_and_night_cream,\n",
    "                                  links_listing_face_and_body_cream, links_listing_eye_cream, links_listing_serum,\n",
    "                                  links_listing_exfoliation, links_listing_mask, links_listing_lip_balms,\n",
    "                                  links_listing_specific_skin_treatments, links_listing_make_up_removers,\n",
    "                                  links_listing_eye_make_up_removers, links_listing_lotions]\n",
    "                   for links in sublist]"
   ]
  },
  {
   "cell_type": "markdown",
   "metadata": {},
   "source": [
    "We are creating a function to get all the basic info that we have on the listing pages."
   ]
  },
  {
   "cell_type": "code",
   "execution_count": 17,
   "metadata": {},
   "outputs": [],
   "source": [
    "def getting_cosmetics_global_info(url):\n",
    "    html = requests.get(url).content\n",
    "    soup = BeautifulSoup(html, \"html\")\n",
    "    table = soup.find(\"table\", attrs={\"class\": \"bt__table\"})\n",
    "    media_content = table.find_all('div', {'class':'bt__media__content'})\n",
    "    brand = table.find_all('td', {'class':'bt__table__item__brand'})\n",
    "    price = table.find_all('td', {'class':'bt__table__item__price'})\n",
    "    capacity = table.find_all('td', {'class':'bt__table__item__cont'})\n",
    "    return zip(media_content, media_content, brand, price, capacity)"
   ]
  },
  {
   "cell_type": "code",
   "execution_count": 19,
   "metadata": {},
   "outputs": [],
   "source": [
    "cosmetics_global_info = [(name.getText().strip(), \n",
    "                        bt_hp + link.find('a').get('href'),\n",
    "                        url[28:].partition('.')[0],\n",
    "                        brand.getText().strip(),\n",
    "                        price.getText().strip().replace('\\xa0?',' €'),\n",
    "                        capacity.getText().strip().replace('\\xa0', ' '))\n",
    "                        for url in cosmetics_links\n",
    "                        for name, link, brand, price, capacity in getting_cosmetics_global_info(url)]"
   ]
  },
  {
   "cell_type": "markdown",
   "metadata": {},
   "source": [
    "We are now creating our dataframe which will contain all the data from the ingredients"
   ]
  },
  {
   "cell_type": "code",
   "execution_count": 20,
   "metadata": {},
   "outputs": [],
   "source": [
    "df = pd.DataFrame(cosmetics_global_info, columns=['Names', 'Links', 'Types', 'Brands', 'Prices', 'Capacities'])"
   ]
  },
  {
   "cell_type": "code",
   "execution_count": 21,
   "metadata": {},
   "outputs": [
    {
     "data": {
      "text/html": [
       "<div>\n",
       "<style scoped>\n",
       "    .dataframe tbody tr th:only-of-type {\n",
       "        vertical-align: middle;\n",
       "    }\n",
       "\n",
       "    .dataframe tbody tr th {\n",
       "        vertical-align: top;\n",
       "    }\n",
       "\n",
       "    .dataframe thead th {\n",
       "        text-align: right;\n",
       "    }\n",
       "</style>\n",
       "<table border=\"1\" class=\"dataframe\">\n",
       "  <thead>\n",
       "    <tr style=\"text-align: right;\">\n",
       "      <th></th>\n",
       "      <th>Names</th>\n",
       "      <th>Links</th>\n",
       "      <th>Types</th>\n",
       "      <th>Brands</th>\n",
       "      <th>Prices</th>\n",
       "      <th>Capacities</th>\n",
       "    </tr>\n",
       "  </thead>\n",
       "  <tbody>\n",
       "    <tr>\n",
       "      <th>0</th>\n",
       "      <td>Soin Revolumisant Intense Anti-Âge Jour - Revi...</td>\n",
       "      <td>https://www.beaute-test.com/soin-revolumisant-...</td>\n",
       "      <td>cremes_jour</td>\n",
       "      <td>L'Oréal Paris</td>\n",
       "      <td>11.08 €</td>\n",
       "      <td>50 ml</td>\n",
       "    </tr>\n",
       "    <tr>\n",
       "      <th>1</th>\n",
       "      <td>Crème de Jour Anti-Rides Q10 - Cien</td>\n",
       "      <td>https://www.beaute-test.com/day_cream_q10_-_ci...</td>\n",
       "      <td>cremes_jour</td>\n",
       "      <td>Lidl</td>\n",
       "      <td>12.00 €</td>\n",
       "      <td>50 ml</td>\n",
       "    </tr>\n",
       "    <tr>\n",
       "      <th>2</th>\n",
       "      <td>BB Crème</td>\n",
       "      <td>https://www.beaute-test.com/soin_miracle_perfe...</td>\n",
       "      <td>cremes_jour</td>\n",
       "      <td>Garnier</td>\n",
       "      <td>5.49 €</td>\n",
       "      <td>50 ml</td>\n",
       "    </tr>\n",
       "    <tr>\n",
       "      <th>3</th>\n",
       "      <td>BB Skin Detox Fluid SPF 25</td>\n",
       "      <td>https://www.beaute-test.com/bb-skin-detox-flui...</td>\n",
       "      <td>cremes_jour</td>\n",
       "      <td>Clarins</td>\n",
       "      <td>26.90 €</td>\n",
       "      <td>45 ml</td>\n",
       "    </tr>\n",
       "    <tr>\n",
       "      <th>4</th>\n",
       "      <td>Soin Global Anti-Rides Jour - Lift+ Algo Rétinol</td>\n",
       "      <td>https://www.beaute-test.com/soin-global-anti-r...</td>\n",
       "      <td>cremes_jour</td>\n",
       "      <td>Diadermine</td>\n",
       "      <td>12.05 €</td>\n",
       "      <td>50 ml</td>\n",
       "    </tr>\n",
       "  </tbody>\n",
       "</table>\n",
       "</div>"
      ],
      "text/plain": [
       "                                               Names  \\\n",
       "0  Soin Revolumisant Intense Anti-Âge Jour - Revi...   \n",
       "1                Crème de Jour Anti-Rides Q10 - Cien   \n",
       "2                                           BB Crème   \n",
       "3                         BB Skin Detox Fluid SPF 25   \n",
       "4   Soin Global Anti-Rides Jour - Lift+ Algo Rétinol   \n",
       "\n",
       "                                               Links        Types  \\\n",
       "0  https://www.beaute-test.com/soin-revolumisant-...  cremes_jour   \n",
       "1  https://www.beaute-test.com/day_cream_q10_-_ci...  cremes_jour   \n",
       "2  https://www.beaute-test.com/soin_miracle_perfe...  cremes_jour   \n",
       "3  https://www.beaute-test.com/bb-skin-detox-flui...  cremes_jour   \n",
       "4  https://www.beaute-test.com/soin-global-anti-r...  cremes_jour   \n",
       "\n",
       "          Brands   Prices Capacities  \n",
       "0  L'Oréal Paris  11.08 €      50 ml  \n",
       "1           Lidl  12.00 €      50 ml  \n",
       "2        Garnier   5.49 €      50 ml  \n",
       "3        Clarins  26.90 €      45 ml  \n",
       "4     Diadermine  12.05 €      50 ml  "
      ]
     },
     "execution_count": 21,
     "metadata": {},
     "output_type": "execute_result"
    }
   ],
   "source": [
    "df.head()"
   ]
  },
  {
   "cell_type": "markdown",
   "metadata": {},
   "source": [
    "Let's now store this dataframe into a csv file."
   ]
  },
  {
   "cell_type": "code",
   "execution_count": 22,
   "metadata": {},
   "outputs": [],
   "source": [
    "df.to_csv('./Data/beautetest_facial_care_products.csv', index=False)"
   ]
  }
 ],
 "metadata": {
  "kernelspec": {
   "display_name": "Python 3",
   "language": "python",
   "name": "python3"
  },
  "language_info": {
   "codemirror_mode": {
    "name": "ipython",
    "version": 3
   },
   "file_extension": ".py",
   "mimetype": "text/x-python",
   "name": "python",
   "nbconvert_exporter": "python",
   "pygments_lexer": "ipython3",
   "version": "3.8.3"
  }
 },
 "nbformat": 4,
 "nbformat_minor": 2
}

{
 "cells": [
  {
   "cell_type": "markdown",
   "metadata": {},
   "source": [
    "# Web Scraping"
   ]
  },
  {
   "cell_type": "markdown",
   "metadata": {},
   "source": [
    "#### We're web scrapping the ingredients from INCI Beauty to get all the names of the ingredients, their marking from INCI Beauty and their functions"
   ]
  },
  {
   "cell_type": "markdown",
   "metadata": {},
   "source": [
    "Libraries"
   ]
  },
  {
   "cell_type": "code",
   "execution_count": 2,
   "metadata": {},
   "outputs": [],
   "source": [
    "import requests\n",
    "from bs4 import BeautifulSoup\n",
    "import pandas as pd\n",
    "import string\n",
    "import re\n",
    "# from pprint import pprint\n",
    "# from lxml import html\n",
    "# from lxml.html import fromstring\n",
    "# import urllib.request\n",
    "# from urllib.request import urlopen\n",
    "# import random\n",
    "# import scrapy"
   ]
  },
  {
   "cell_type": "code",
   "execution_count": 2,
   "metadata": {},
   "outputs": [],
   "source": [
    "#That's the base url that we will use to get all he ingredients data that we need\n",
    "url = 'https://incibeauty.com/ingredients/'"
   ]
  },
  {
   "cell_type": "code",
   "execution_count": 3,
   "metadata": {},
   "outputs": [
    {
     "data": {
      "text/plain": [
       "35"
      ]
     },
     "execution_count": 3,
     "metadata": {},
     "output_type": "execute_result"
    }
   ],
   "source": [
    "len(url)"
   ]
  },
  {
   "cell_type": "markdown",
   "metadata": {},
   "source": [
    "We're creating a function which will give us a list of the alphabet"
   ]
  },
  {
   "cell_type": "code",
   "execution_count": 4,
   "metadata": {},
   "outputs": [],
   "source": [
    "def listAlphabet():\n",
    "    return list(string.ascii_uppercase)"
   ]
  },
  {
   "cell_type": "code",
   "execution_count": 5,
   "metadata": {},
   "outputs": [],
   "source": [
    "#We're storing the alphabet list in a variable\n",
    "listAlphabet = listAlphabet()\n",
    "\n",
    "#We're appending '1' to it as it's the page where the ingredients beginning with numbers are listed on\n",
    "listAlphabet.append('1')"
   ]
  },
  {
   "cell_type": "code",
   "execution_count": 6,
   "metadata": {},
   "outputs": [],
   "source": [
    "#We concatenate the base url and listAlphabet to get all the urls where ingredients are listed on\n",
    "urls_to_extract = [url + alphabet for alphabet in listAlphabet]"
   ]
  },
  {
   "cell_type": "code",
   "execution_count": 7,
   "metadata": {},
   "outputs": [
    {
     "data": {
      "text/plain": [
       "27"
      ]
     },
     "execution_count": 7,
     "metadata": {},
     "output_type": "execute_result"
    }
   ],
   "source": [
    "#We have 27 links in total\n",
    "len(urls_to_extract)"
   ]
  },
  {
   "cell_type": "markdown",
   "metadata": {},
   "source": [
    "From the ingredients listings, we want to get the name, link and effect of each ingredient."
   ]
  },
  {
   "cell_type": "code",
   "execution_count": 86,
   "metadata": {},
   "outputs": [],
   "source": [
    "def getting_links_effect_and_ing_names(url):\n",
    "    html = requests.get(url).content\n",
    "    soup = BeautifulSoup(html, \"html\")\n",
    "    table = soup.find(\"table\", attrs={\"class\": \"table table-striped table-striped-reverse table-inci\"})\n",
    "    return zip(table.find_all('a', {'class':'color-inherit'}), table.find_all(\"tr\"), table.find_all('img',{'class':'fleur'}))"
   ]
  },
  {
   "cell_type": "markdown",
   "metadata": {},
   "source": [
    "We're using a list comprehension containings tuples of ingredients names and links"
   ]
  },
  {
   "cell_type": "code",
   "execution_count": 87,
   "metadata": {},
   "outputs": [],
   "source": [
    "table_data_ingredients = [(td.text.replace('\\n', '').strip(), link['href'], item['src'][32:-4])\n",
    "                          for url in urls_to_extract\n",
    "                          for link, tr, item in getting_links_effect_and_ing_names(url)\n",
    "                          for td in tr.find_all(\"td\")\n",
    "                          if 'href' in link.attrs\n",
    "                          if td.text.replace('\\n', '').strip()\n",
    "                          if td.text.replace('\\n', '').strip() == td.text.replace('\\n', '').strip().upper()]"
   ]
  },
  {
   "cell_type": "markdown",
   "metadata": {},
   "source": [
    "We are now creating our dataframe which will contain all the data from the ingredients"
   ]
  },
  {
   "cell_type": "code",
   "execution_count": 91,
   "metadata": {},
   "outputs": [],
   "source": [
    "df = pd.DataFrame(table_data_ingredients, columns=['Names', 'Links', 'Effect'])"
   ]
  },
  {
   "cell_type": "code",
   "execution_count": 92,
   "metadata": {},
   "outputs": [
    {
     "data": {
      "text/html": [
       "<div>\n",
       "<style scoped>\n",
       "    .dataframe tbody tr th:only-of-type {\n",
       "        vertical-align: middle;\n",
       "    }\n",
       "\n",
       "    .dataframe tbody tr th {\n",
       "        vertical-align: top;\n",
       "    }\n",
       "\n",
       "    .dataframe thead th {\n",
       "        text-align: right;\n",
       "    }\n",
       "</style>\n",
       "<table border=\"1\" class=\"dataframe\">\n",
       "  <thead>\n",
       "    <tr style=\"text-align: right;\">\n",
       "      <th></th>\n",
       "      <th>Names</th>\n",
       "      <th>Links</th>\n",
       "      <th>Effect</th>\n",
       "    </tr>\n",
       "  </thead>\n",
       "  <tbody>\n",
       "    <tr>\n",
       "      <th>count</th>\n",
       "      <td>13004</td>\n",
       "      <td>13004</td>\n",
       "      <td>13004</td>\n",
       "    </tr>\n",
       "    <tr>\n",
       "      <th>unique</th>\n",
       "      <td>13004</td>\n",
       "      <td>12993</td>\n",
       "      <td>4</td>\n",
       "    </tr>\n",
       "    <tr>\n",
       "      <th>top</th>\n",
       "      <td>STEARYL DIHYDROXYPROPYLDIMONIUM OLIGOSACCHARIDES</td>\n",
       "      <td>https://incibeauty.com/ingredients/16499-disod...</td>\n",
       "      <td>vert</td>\n",
       "    </tr>\n",
       "    <tr>\n",
       "      <th>freq</th>\n",
       "      <td>1</td>\n",
       "      <td>2</td>\n",
       "      <td>9409</td>\n",
       "    </tr>\n",
       "  </tbody>\n",
       "</table>\n",
       "</div>"
      ],
      "text/plain": [
       "                                                   Names  \\\n",
       "count                                              13004   \n",
       "unique                                             13004   \n",
       "top     STEARYL DIHYDROXYPROPYLDIMONIUM OLIGOSACCHARIDES   \n",
       "freq                                                   1   \n",
       "\n",
       "                                                    Links Effect  \n",
       "count                                               13004  13004  \n",
       "unique                                              12993      4  \n",
       "top     https://incibeauty.com/ingredients/16499-disod...   vert  \n",
       "freq                                                    2   9409  "
      ]
     },
     "execution_count": 92,
     "metadata": {},
     "output_type": "execute_result"
    }
   ],
   "source": [
    "df.describe()"
   ]
  },
  {
   "cell_type": "code",
   "execution_count": 94,
   "metadata": {},
   "outputs": [
    {
     "data": {
      "text/html": [
       "<div>\n",
       "<style scoped>\n",
       "    .dataframe tbody tr th:only-of-type {\n",
       "        vertical-align: middle;\n",
       "    }\n",
       "\n",
       "    .dataframe tbody tr th {\n",
       "        vertical-align: top;\n",
       "    }\n",
       "\n",
       "    .dataframe thead th {\n",
       "        text-align: right;\n",
       "    }\n",
       "</style>\n",
       "<table border=\"1\" class=\"dataframe\">\n",
       "  <thead>\n",
       "    <tr style=\"text-align: right;\">\n",
       "      <th></th>\n",
       "      <th>Names</th>\n",
       "      <th>Links</th>\n",
       "      <th>Effect</th>\n",
       "    </tr>\n",
       "  </thead>\n",
       "  <tbody>\n",
       "    <tr>\n",
       "      <th>648</th>\n",
       "      <td>AMMONIUM LACTATE</td>\n",
       "      <td>https://incibeauty.com/ingredients/2557-ammoni...</td>\n",
       "      <td>vert</td>\n",
       "    </tr>\n",
       "    <tr>\n",
       "      <th>649</th>\n",
       "      <td>E328</td>\n",
       "      <td>https://incibeauty.com/ingredients/2557-ammoni...</td>\n",
       "      <td>vert</td>\n",
       "    </tr>\n",
       "    <tr>\n",
       "      <th>834</th>\n",
       "      <td>ARACHIDYL ALCOHOL (AND) BEHENYL ALCOHOL (AND) ...</td>\n",
       "      <td>https://incibeauty.com/ingredients/25430-arach...</td>\n",
       "      <td>jaune</td>\n",
       "    </tr>\n",
       "    <tr>\n",
       "      <th>835</th>\n",
       "      <td>MONTANOV 202</td>\n",
       "      <td>https://incibeauty.com/ingredients/25430-arach...</td>\n",
       "      <td>jaune</td>\n",
       "    </tr>\n",
       "    <tr>\n",
       "      <th>2196</th>\n",
       "      <td>CELLULOSE ACETATE BUTYRATE</td>\n",
       "      <td>https://incibeauty.com/ingredients/17422-cellu...</td>\n",
       "      <td>vert</td>\n",
       "    </tr>\n",
       "    <tr>\n",
       "      <th>2197</th>\n",
       "      <td>CAB</td>\n",
       "      <td>https://incibeauty.com/ingredients/17422-cellu...</td>\n",
       "      <td>vert</td>\n",
       "    </tr>\n",
       "    <tr>\n",
       "      <th>3916</th>\n",
       "      <td>DISODIUM LAURETH SULFOSUCCINATE</td>\n",
       "      <td>https://incibeauty.com/ingredients/16499-disod...</td>\n",
       "      <td>orange</td>\n",
       "    </tr>\n",
       "    <tr>\n",
       "      <th>3917</th>\n",
       "      <td>DLS</td>\n",
       "      <td>https://incibeauty.com/ingredients/16499-disod...</td>\n",
       "      <td>orange</td>\n",
       "    </tr>\n",
       "    <tr>\n",
       "      <th>3975</th>\n",
       "      <td>DISUBSTITUTED ALANINAMIDE</td>\n",
       "      <td>https://incibeauty.com/ingredients/44656-disub...</td>\n",
       "      <td>vert</td>\n",
       "    </tr>\n",
       "    <tr>\n",
       "      <th>3976</th>\n",
       "      <td>DSAA</td>\n",
       "      <td>https://incibeauty.com/ingredients/44656-disub...</td>\n",
       "      <td>vert</td>\n",
       "    </tr>\n",
       "    <tr>\n",
       "      <th>5566</th>\n",
       "      <td>HYDROXYETHYL ACRYLATE/SODIUM ACRYLOYLDIMETHYL ...</td>\n",
       "      <td>https://incibeauty.com/ingredients/28707-hydro...</td>\n",
       "      <td>orange</td>\n",
       "    </tr>\n",
       "    <tr>\n",
       "      <th>5567</th>\n",
       "      <td>SIMULGEL</td>\n",
       "      <td>https://incibeauty.com/ingredients/28707-hydro...</td>\n",
       "      <td>orange</td>\n",
       "    </tr>\n",
       "    <tr>\n",
       "      <th>7887</th>\n",
       "      <td>P-PHENYLENEDIAMINE</td>\n",
       "      <td>https://incibeauty.com/ingredients/5640-p-phen...</td>\n",
       "      <td>orange</td>\n",
       "    </tr>\n",
       "    <tr>\n",
       "      <th>7888</th>\n",
       "      <td>PPD (CI 76060)</td>\n",
       "      <td>https://incibeauty.com/ingredients/5640-p-phen...</td>\n",
       "      <td>orange</td>\n",
       "    </tr>\n",
       "    <tr>\n",
       "      <th>9062</th>\n",
       "      <td>POLY VINYL PYRIDINE-N-OXIDE</td>\n",
       "      <td>https://incibeauty.com/ingredients/44631-poly-...</td>\n",
       "      <td>vert</td>\n",
       "    </tr>\n",
       "    <tr>\n",
       "      <th>9063</th>\n",
       "      <td>PVNO</td>\n",
       "      <td>https://incibeauty.com/ingredients/44631-poly-...</td>\n",
       "      <td>vert</td>\n",
       "    </tr>\n",
       "    <tr>\n",
       "      <th>9147</th>\n",
       "      <td>POLYETHYLENE GLYCOL 35000</td>\n",
       "      <td>https://incibeauty.com/ingredients/26838-polye...</td>\n",
       "      <td>orange</td>\n",
       "    </tr>\n",
       "    <tr>\n",
       "      <th>9148</th>\n",
       "      <td>PEG-35000</td>\n",
       "      <td>https://incibeauty.com/ingredients/26838-polye...</td>\n",
       "      <td>orange</td>\n",
       "    </tr>\n",
       "    <tr>\n",
       "      <th>10112</th>\n",
       "      <td>QUARTZ</td>\n",
       "      <td>https://incibeauty.com/ingredients/18884-quartz</td>\n",
       "      <td>vert</td>\n",
       "    </tr>\n",
       "    <tr>\n",
       "      <th>10113</th>\n",
       "      <td>E551</td>\n",
       "      <td>https://incibeauty.com/ingredients/18884-quartz</td>\n",
       "      <td>vert</td>\n",
       "    </tr>\n",
       "    <tr>\n",
       "      <th>11151</th>\n",
       "      <td>SODIUM DIETHYLENETRIAMINE PENTAMETHYLENE PHOSP...</td>\n",
       "      <td>https://incibeauty.com/ingredients/5873-sodium...</td>\n",
       "      <td>orange</td>\n",
       "    </tr>\n",
       "    <tr>\n",
       "      <th>11152</th>\n",
       "      <td>DTPMPA</td>\n",
       "      <td>https://incibeauty.com/ingredients/5873-sodium...</td>\n",
       "      <td>orange</td>\n",
       "    </tr>\n",
       "  </tbody>\n",
       "</table>\n",
       "</div>"
      ],
      "text/plain": [
       "                                                   Names  \\\n",
       "648                                     AMMONIUM LACTATE   \n",
       "649                                                 E328   \n",
       "834    ARACHIDYL ALCOHOL (AND) BEHENYL ALCOHOL (AND) ...   \n",
       "835                                         MONTANOV 202   \n",
       "2196                          CELLULOSE ACETATE BUTYRATE   \n",
       "2197                                                 CAB   \n",
       "3916                     DISODIUM LAURETH SULFOSUCCINATE   \n",
       "3917                                                 DLS   \n",
       "3975                           DISUBSTITUTED ALANINAMIDE   \n",
       "3976                                                DSAA   \n",
       "5566   HYDROXYETHYL ACRYLATE/SODIUM ACRYLOYLDIMETHYL ...   \n",
       "5567                                            SIMULGEL   \n",
       "7887                                  P-PHENYLENEDIAMINE   \n",
       "7888                                      PPD (CI 76060)   \n",
       "9062                         POLY VINYL PYRIDINE-N-OXIDE   \n",
       "9063                                                PVNO   \n",
       "9147                           POLYETHYLENE GLYCOL 35000   \n",
       "9148                                           PEG-35000   \n",
       "10112                                             QUARTZ   \n",
       "10113                                               E551   \n",
       "11151  SODIUM DIETHYLENETRIAMINE PENTAMETHYLENE PHOSP...   \n",
       "11152                                             DTPMPA   \n",
       "\n",
       "                                                   Links  Effect  \n",
       "648    https://incibeauty.com/ingredients/2557-ammoni...    vert  \n",
       "649    https://incibeauty.com/ingredients/2557-ammoni...    vert  \n",
       "834    https://incibeauty.com/ingredients/25430-arach...   jaune  \n",
       "835    https://incibeauty.com/ingredients/25430-arach...   jaune  \n",
       "2196   https://incibeauty.com/ingredients/17422-cellu...    vert  \n",
       "2197   https://incibeauty.com/ingredients/17422-cellu...    vert  \n",
       "3916   https://incibeauty.com/ingredients/16499-disod...  orange  \n",
       "3917   https://incibeauty.com/ingredients/16499-disod...  orange  \n",
       "3975   https://incibeauty.com/ingredients/44656-disub...    vert  \n",
       "3976   https://incibeauty.com/ingredients/44656-disub...    vert  \n",
       "5566   https://incibeauty.com/ingredients/28707-hydro...  orange  \n",
       "5567   https://incibeauty.com/ingredients/28707-hydro...  orange  \n",
       "7887   https://incibeauty.com/ingredients/5640-p-phen...  orange  \n",
       "7888   https://incibeauty.com/ingredients/5640-p-phen...  orange  \n",
       "9062   https://incibeauty.com/ingredients/44631-poly-...    vert  \n",
       "9063   https://incibeauty.com/ingredients/44631-poly-...    vert  \n",
       "9147   https://incibeauty.com/ingredients/26838-polye...  orange  \n",
       "9148   https://incibeauty.com/ingredients/26838-polye...  orange  \n",
       "10112    https://incibeauty.com/ingredients/18884-quartz    vert  \n",
       "10113    https://incibeauty.com/ingredients/18884-quartz    vert  \n",
       "11151  https://incibeauty.com/ingredients/5873-sodium...  orange  \n",
       "11152  https://incibeauty.com/ingredients/5873-sodium...  orange  "
      ]
     },
     "execution_count": 94,
     "metadata": {},
     "output_type": "execute_result"
    }
   ],
   "source": [
    "df[df.duplicated(subset='Links', keep=False)]"
   ]
  },
  {
   "cell_type": "markdown",
   "metadata": {},
   "source": [
    "There are less unique links as there are ingredients named with their acronym."
   ]
  },
  {
   "cell_type": "markdown",
   "metadata": {},
   "source": [
    "We will now move on onto getting each ingredient function(s)."
   ]
  },
  {
   "cell_type": "code",
   "execution_count": 138,
   "metadata": {},
   "outputs": [],
   "source": [
    "def usage_ing(url):\n",
    "    html = requests.get(url).content\n",
    "    soup = BeautifulSoup(html, \"html\")\n",
    "    #usage_content = soup.find_all('ul',{'class':'fonctions-inci'})\n",
    "    usage_content = soup.find_all('i')\n",
    "    list_usages = [item.text.replace(' :','') for item in usage_content if item.text.replace(' :','')]\n",
    "    return list_usages"
   ]
  },
  {
   "cell_type": "code",
   "execution_count": 140,
   "metadata": {},
   "outputs": [],
   "source": [
    "df['Usages'] = df['Links'].apply(usage_ing)"
   ]
  },
  {
   "cell_type": "markdown",
   "metadata": {},
   "source": [
    "Let's save our dataframe into a csv file."
   ]
  },
  {
   "cell_type": "code",
   "execution_count": 148,
   "metadata": {},
   "outputs": [],
   "source": [
    "df.to_csv('incibeauty_ingredients.csv', index=False)"
   ]
  },
  {
   "cell_type": "code",
   "execution_count": 4,
   "metadata": {},
   "outputs": [],
   "source": [
    "data = pd.read_csv('./Data/incibeauty_ingredients.csv')"
   ]
  },
  {
   "cell_type": "code",
   "execution_count": 5,
   "metadata": {},
   "outputs": [
    {
     "name": "stdout",
     "output_type": "stream",
     "text": [
      "<class 'pandas.core.frame.DataFrame'>\n",
      "RangeIndex: 13004 entries, 0 to 13003\n",
      "Data columns (total 4 columns):\n",
      " #   Column  Non-Null Count  Dtype \n",
      "---  ------  --------------  ----- \n",
      " 0   Names   13004 non-null  object\n",
      " 1   Links   13004 non-null  object\n",
      " 2   Effect  13004 non-null  object\n",
      " 3   Usages  13004 non-null  object\n",
      "dtypes: object(4)\n",
      "memory usage: 406.5+ KB\n"
     ]
    }
   ],
   "source": [
    "data.info()"
   ]
  },
  {
   "cell_type": "code",
   "execution_count": null,
   "metadata": {},
   "outputs": [],
   "source": []
  }
 ],
 "metadata": {
  "kernelspec": {
   "display_name": "Python 3",
   "language": "python",
   "name": "python3"
  },
  "language_info": {
   "codemirror_mode": {
    "name": "ipython",
    "version": 3
   },
   "file_extension": ".py",
   "mimetype": "text/x-python",
   "name": "python",
   "nbconvert_exporter": "python",
   "pygments_lexer": "ipython3",
   "version": "3.8.3"
  }
 },
 "nbformat": 4,
 "nbformat_minor": 2
}
